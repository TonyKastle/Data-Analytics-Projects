{
 "cells": [
  {
   "cell_type": "markdown",
   "id": "09069dfb",
   "metadata": {},
   "source": [
    "# Анализ базы данных сервиса для чтения книг по подписке"
   ]
  },
  {
   "cell_type": "markdown",
   "id": "bc58988e",
   "metadata": {},
   "source": [
    "## Оглавление\n",
    "\n",
    "1. [Введение](#intro)\n",
    "2. [Исследование таблиц](#tables)\n",
    "    1. [Подготовка окружения](#env)\n",
    "    2. [Загрузка таблиц](#load)\n",
    "    3. [Анализ дубликатов](#duplicates)\n",
    "3. [Получение данных для анализа](#requests)\n",
    "    1. [Анализ книг 21 века](#xxi)\n",
    "    2. [Анализ обзоров и средних оценок](#review)\n",
    "    3. [Анализ самого активного издательства](#publishers)\n",
    "    4. [Анализ самого высокооцененного автора](#author)\n",
    "    5. [Анализ активных пользователей](#users)\n",
    "4. [Общий вывод](#total)"
   ]
  },
  {
   "cell_type": "markdown",
   "id": "76e426a1",
   "metadata": {},
   "source": [
    "## Введение <a id=\"intro\"></a>"
   ]
  },
  {
   "cell_type": "markdown",
   "id": "f5ea0010",
   "metadata": {},
   "source": [
    "### Задача\n",
    "\n",
    "Нужно проанализировать базу данных крупного сервиса для чтения книг по подписке. В ней — информация о книгах, издательствах, авторах, а также пользовательские обзоры книг. Эти данные помогут сформулировать ценностное предложение для нового продукта.\n",
    "\n",
    "### Описание данных\n",
    "\n",
    "Структура таблицы `books` (содержит данные о книгах):\n",
    "- `book_id` — идентификатор книги;\n",
    "- `author_id` — идентификатор автора;\n",
    "- `title` — название книги;\n",
    "- `num_pages` — количество страниц;\n",
    "- `publication_date` — дата публикации книги;\n",
    "- `publisher_id` — идентификатор издателя.\n",
    "\n",
    "Структура таблицы `authors` (содержит данные об авторах):\n",
    "- `author_id` — идентификатор автора;\n",
    "- `author` — имя автора.\n",
    "\n",
    "Структура таблицы `publishers` (содержит данные об издательствах):\n",
    "- `publisher_id` — идентификатор издательства;\n",
    "- `publisher` — название издательства;\n",
    "\n",
    "Структура таблицы `ratings` (содержит данные о пользовательских оценках книг):\n",
    "- `rating_id` — идентификатор оценки;\n",
    "- `book_id` — идентификатор книги;\n",
    "- `username` — имя пользователя, оставившего оценку;\n",
    "- `rating` — оценка книги.\n",
    "\n",
    "Структура таблицы `reviews` (содержит данные о пользовательских обзорах на книги):\n",
    "- `review_id` — идентификатор обзора;\n",
    "- `book_id` — идентификатор книги;\n",
    "- `username` — имя пользователя, написавшего обзор;\n",
    "- `text` — текст обзора."
   ]
  },
  {
   "cell_type": "markdown",
   "id": "2553e09f",
   "metadata": {},
   "source": [
    "## Исследование таблиц <a id=\"tables\"></a>"
   ]
  },
  {
   "cell_type": "markdown",
   "id": "192758b9",
   "metadata": {},
   "source": [
    "### Подготовка окружения <a id=\"env\"></a>"
   ]
  },
  {
   "cell_type": "markdown",
   "id": "2a8bfe6e",
   "metadata": {},
   "source": [
    "Загрузим библиотеки, необходимые для работы."
   ]
  },
  {
   "cell_type": "code",
   "execution_count": 1,
   "id": "f59c34ed",
   "metadata": {},
   "outputs": [],
   "source": [
    "import pandas as pd\n",
    "from sqlalchemy import create_engine\n",
    "import json"
   ]
  },
  {
   "cell_type": "markdown",
   "id": "92b2a3e2",
   "metadata": {},
   "source": [
    "Настроим конфигурации для подключения к базе данных."
   ]
  },
  {
   "cell_type": "code",
   "execution_count": 2,
   "id": "805ecab5",
   "metadata": {},
   "outputs": [],
   "source": [
    "# получаем конфиг настроек БД из файла\n",
    "with open('db_config.json', 'r') as file:\n",
    "    db_config = json.load(file)\n",
    "\n",
    "# коннектимся к БД\n",
    "connection_string = 'postgresql://{}:{}@{}:{}/{}'.format(db_config['user'], \n",
    "                                                         db_config['pwd'], \n",
    "                                                         db_config['host'], \n",
    "                                                         db_config['port'],\n",
    "                                                         db_config['db'])\n",
    "\n",
    "# сохраняем коннектор\n",
    "engine = create_engine(connection_string, connect_args={'sslmode':'require'})"
   ]
  },
  {
   "cell_type": "markdown",
   "id": "ee4b9445",
   "metadata": {},
   "source": [
    "### Загрузка таблиц <a id=\"load\"></a>"
   ]
  },
  {
   "cell_type": "markdown",
   "id": "80f70ee1",
   "metadata": {},
   "source": [
    "Загрузим все таблицы, а также выведем первые 5 строк из каждой."
   ]
  },
  {
   "cell_type": "code",
   "execution_count": 3,
   "id": "e62956df",
   "metadata": {
    "scrolled": false
   },
   "outputs": [
    {
     "name": "stdout",
     "output_type": "stream",
     "text": [
      "books\n"
     ]
    },
    {
     "data": {
      "text/html": [
       "<div>\n",
       "<style scoped>\n",
       "    .dataframe tbody tr th:only-of-type {\n",
       "        vertical-align: middle;\n",
       "    }\n",
       "\n",
       "    .dataframe tbody tr th {\n",
       "        vertical-align: top;\n",
       "    }\n",
       "\n",
       "    .dataframe thead th {\n",
       "        text-align: right;\n",
       "    }\n",
       "</style>\n",
       "<table border=\"1\" class=\"dataframe\">\n",
       "  <thead>\n",
       "    <tr style=\"text-align: right;\">\n",
       "      <th></th>\n",
       "      <th>book_id</th>\n",
       "      <th>author_id</th>\n",
       "      <th>title</th>\n",
       "      <th>num_pages</th>\n",
       "      <th>publication_date</th>\n",
       "      <th>publisher_id</th>\n",
       "    </tr>\n",
       "  </thead>\n",
       "  <tbody>\n",
       "    <tr>\n",
       "      <th>0</th>\n",
       "      <td>1</td>\n",
       "      <td>546</td>\n",
       "      <td>'Salem's Lot</td>\n",
       "      <td>594</td>\n",
       "      <td>2005-11-01</td>\n",
       "      <td>93</td>\n",
       "    </tr>\n",
       "    <tr>\n",
       "      <th>1</th>\n",
       "      <td>2</td>\n",
       "      <td>465</td>\n",
       "      <td>1 000 Places to See Before You Die</td>\n",
       "      <td>992</td>\n",
       "      <td>2003-05-22</td>\n",
       "      <td>336</td>\n",
       "    </tr>\n",
       "    <tr>\n",
       "      <th>2</th>\n",
       "      <td>3</td>\n",
       "      <td>407</td>\n",
       "      <td>13 Little Blue Envelopes (Little Blue Envelope...</td>\n",
       "      <td>322</td>\n",
       "      <td>2010-12-21</td>\n",
       "      <td>135</td>\n",
       "    </tr>\n",
       "    <tr>\n",
       "      <th>3</th>\n",
       "      <td>4</td>\n",
       "      <td>82</td>\n",
       "      <td>1491: New Revelations of the Americas Before C...</td>\n",
       "      <td>541</td>\n",
       "      <td>2006-10-10</td>\n",
       "      <td>309</td>\n",
       "    </tr>\n",
       "    <tr>\n",
       "      <th>4</th>\n",
       "      <td>5</td>\n",
       "      <td>125</td>\n",
       "      <td>1776</td>\n",
       "      <td>386</td>\n",
       "      <td>2006-07-04</td>\n",
       "      <td>268</td>\n",
       "    </tr>\n",
       "  </tbody>\n",
       "</table>\n",
       "</div>"
      ],
      "text/plain": [
       "   book_id  author_id                                              title  \\\n",
       "0        1        546                                       'Salem's Lot   \n",
       "1        2        465                 1 000 Places to See Before You Die   \n",
       "2        3        407  13 Little Blue Envelopes (Little Blue Envelope...   \n",
       "3        4         82  1491: New Revelations of the Americas Before C...   \n",
       "4        5        125                                               1776   \n",
       "\n",
       "   num_pages publication_date  publisher_id  \n",
       "0        594       2005-11-01            93  \n",
       "1        992       2003-05-22           336  \n",
       "2        322       2010-12-21           135  \n",
       "3        541       2006-10-10           309  \n",
       "4        386       2006-07-04           268  "
      ]
     },
     "metadata": {},
     "output_type": "display_data"
    },
    {
     "name": "stdout",
     "output_type": "stream",
     "text": [
      "<class 'pandas.core.frame.DataFrame'>\n",
      "RangeIndex: 1000 entries, 0 to 999\n",
      "Data columns (total 6 columns):\n",
      " #   Column            Non-Null Count  Dtype \n",
      "---  ------            --------------  ----- \n",
      " 0   book_id           1000 non-null   int64 \n",
      " 1   author_id         1000 non-null   int64 \n",
      " 2   title             1000 non-null   object\n",
      " 3   num_pages         1000 non-null   int64 \n",
      " 4   publication_date  1000 non-null   object\n",
      " 5   publisher_id      1000 non-null   int64 \n",
      "dtypes: int64(4), object(2)\n",
      "memory usage: 47.0+ KB\n"
     ]
    },
    {
     "data": {
      "text/plain": [
       "None"
      ]
     },
     "metadata": {},
     "output_type": "display_data"
    },
    {
     "name": "stdout",
     "output_type": "stream",
     "text": [
      "authors\n"
     ]
    },
    {
     "data": {
      "text/html": [
       "<div>\n",
       "<style scoped>\n",
       "    .dataframe tbody tr th:only-of-type {\n",
       "        vertical-align: middle;\n",
       "    }\n",
       "\n",
       "    .dataframe tbody tr th {\n",
       "        vertical-align: top;\n",
       "    }\n",
       "\n",
       "    .dataframe thead th {\n",
       "        text-align: right;\n",
       "    }\n",
       "</style>\n",
       "<table border=\"1\" class=\"dataframe\">\n",
       "  <thead>\n",
       "    <tr style=\"text-align: right;\">\n",
       "      <th></th>\n",
       "      <th>author_id</th>\n",
       "      <th>author</th>\n",
       "    </tr>\n",
       "  </thead>\n",
       "  <tbody>\n",
       "    <tr>\n",
       "      <th>0</th>\n",
       "      <td>1</td>\n",
       "      <td>A.S. Byatt</td>\n",
       "    </tr>\n",
       "    <tr>\n",
       "      <th>1</th>\n",
       "      <td>2</td>\n",
       "      <td>Aesop/Laura Harris/Laura Gibbs</td>\n",
       "    </tr>\n",
       "    <tr>\n",
       "      <th>2</th>\n",
       "      <td>3</td>\n",
       "      <td>Agatha Christie</td>\n",
       "    </tr>\n",
       "    <tr>\n",
       "      <th>3</th>\n",
       "      <td>4</td>\n",
       "      <td>Alan Brennert</td>\n",
       "    </tr>\n",
       "    <tr>\n",
       "      <th>4</th>\n",
       "      <td>5</td>\n",
       "      <td>Alan Moore/David   Lloyd</td>\n",
       "    </tr>\n",
       "  </tbody>\n",
       "</table>\n",
       "</div>"
      ],
      "text/plain": [
       "   author_id                          author\n",
       "0          1                      A.S. Byatt\n",
       "1          2  Aesop/Laura Harris/Laura Gibbs\n",
       "2          3                 Agatha Christie\n",
       "3          4                   Alan Brennert\n",
       "4          5        Alan Moore/David   Lloyd"
      ]
     },
     "metadata": {},
     "output_type": "display_data"
    },
    {
     "name": "stdout",
     "output_type": "stream",
     "text": [
      "<class 'pandas.core.frame.DataFrame'>\n",
      "RangeIndex: 636 entries, 0 to 635\n",
      "Data columns (total 2 columns):\n",
      " #   Column     Non-Null Count  Dtype \n",
      "---  ------     --------------  ----- \n",
      " 0   author_id  636 non-null    int64 \n",
      " 1   author     636 non-null    object\n",
      "dtypes: int64(1), object(1)\n",
      "memory usage: 10.1+ KB\n"
     ]
    },
    {
     "data": {
      "text/plain": [
       "None"
      ]
     },
     "metadata": {},
     "output_type": "display_data"
    },
    {
     "name": "stdout",
     "output_type": "stream",
     "text": [
      "publishers\n"
     ]
    },
    {
     "data": {
      "text/html": [
       "<div>\n",
       "<style scoped>\n",
       "    .dataframe tbody tr th:only-of-type {\n",
       "        vertical-align: middle;\n",
       "    }\n",
       "\n",
       "    .dataframe tbody tr th {\n",
       "        vertical-align: top;\n",
       "    }\n",
       "\n",
       "    .dataframe thead th {\n",
       "        text-align: right;\n",
       "    }\n",
       "</style>\n",
       "<table border=\"1\" class=\"dataframe\">\n",
       "  <thead>\n",
       "    <tr style=\"text-align: right;\">\n",
       "      <th></th>\n",
       "      <th>publisher_id</th>\n",
       "      <th>publisher</th>\n",
       "    </tr>\n",
       "  </thead>\n",
       "  <tbody>\n",
       "    <tr>\n",
       "      <th>0</th>\n",
       "      <td>1</td>\n",
       "      <td>Ace</td>\n",
       "    </tr>\n",
       "    <tr>\n",
       "      <th>1</th>\n",
       "      <td>2</td>\n",
       "      <td>Ace Book</td>\n",
       "    </tr>\n",
       "    <tr>\n",
       "      <th>2</th>\n",
       "      <td>3</td>\n",
       "      <td>Ace Books</td>\n",
       "    </tr>\n",
       "    <tr>\n",
       "      <th>3</th>\n",
       "      <td>4</td>\n",
       "      <td>Ace Hardcover</td>\n",
       "    </tr>\n",
       "    <tr>\n",
       "      <th>4</th>\n",
       "      <td>5</td>\n",
       "      <td>Addison Wesley Publishing Company</td>\n",
       "    </tr>\n",
       "  </tbody>\n",
       "</table>\n",
       "</div>"
      ],
      "text/plain": [
       "   publisher_id                          publisher\n",
       "0             1                                Ace\n",
       "1             2                           Ace Book\n",
       "2             3                          Ace Books\n",
       "3             4                      Ace Hardcover\n",
       "4             5  Addison Wesley Publishing Company"
      ]
     },
     "metadata": {},
     "output_type": "display_data"
    },
    {
     "name": "stdout",
     "output_type": "stream",
     "text": [
      "<class 'pandas.core.frame.DataFrame'>\n",
      "RangeIndex: 340 entries, 0 to 339\n",
      "Data columns (total 2 columns):\n",
      " #   Column        Non-Null Count  Dtype \n",
      "---  ------        --------------  ----- \n",
      " 0   publisher_id  340 non-null    int64 \n",
      " 1   publisher     340 non-null    object\n",
      "dtypes: int64(1), object(1)\n",
      "memory usage: 5.4+ KB\n"
     ]
    },
    {
     "data": {
      "text/plain": [
       "None"
      ]
     },
     "metadata": {},
     "output_type": "display_data"
    },
    {
     "name": "stdout",
     "output_type": "stream",
     "text": [
      "ratings\n"
     ]
    },
    {
     "data": {
      "text/html": [
       "<div>\n",
       "<style scoped>\n",
       "    .dataframe tbody tr th:only-of-type {\n",
       "        vertical-align: middle;\n",
       "    }\n",
       "\n",
       "    .dataframe tbody tr th {\n",
       "        vertical-align: top;\n",
       "    }\n",
       "\n",
       "    .dataframe thead th {\n",
       "        text-align: right;\n",
       "    }\n",
       "</style>\n",
       "<table border=\"1\" class=\"dataframe\">\n",
       "  <thead>\n",
       "    <tr style=\"text-align: right;\">\n",
       "      <th></th>\n",
       "      <th>rating_id</th>\n",
       "      <th>book_id</th>\n",
       "      <th>username</th>\n",
       "      <th>rating</th>\n",
       "    </tr>\n",
       "  </thead>\n",
       "  <tbody>\n",
       "    <tr>\n",
       "      <th>0</th>\n",
       "      <td>1</td>\n",
       "      <td>1</td>\n",
       "      <td>ryanfranco</td>\n",
       "      <td>4</td>\n",
       "    </tr>\n",
       "    <tr>\n",
       "      <th>1</th>\n",
       "      <td>2</td>\n",
       "      <td>1</td>\n",
       "      <td>grantpatricia</td>\n",
       "      <td>2</td>\n",
       "    </tr>\n",
       "    <tr>\n",
       "      <th>2</th>\n",
       "      <td>3</td>\n",
       "      <td>1</td>\n",
       "      <td>brandtandrea</td>\n",
       "      <td>5</td>\n",
       "    </tr>\n",
       "    <tr>\n",
       "      <th>3</th>\n",
       "      <td>4</td>\n",
       "      <td>2</td>\n",
       "      <td>lorichen</td>\n",
       "      <td>3</td>\n",
       "    </tr>\n",
       "    <tr>\n",
       "      <th>4</th>\n",
       "      <td>5</td>\n",
       "      <td>2</td>\n",
       "      <td>mariokeller</td>\n",
       "      <td>2</td>\n",
       "    </tr>\n",
       "  </tbody>\n",
       "</table>\n",
       "</div>"
      ],
      "text/plain": [
       "   rating_id  book_id       username  rating\n",
       "0          1        1     ryanfranco       4\n",
       "1          2        1  grantpatricia       2\n",
       "2          3        1   brandtandrea       5\n",
       "3          4        2       lorichen       3\n",
       "4          5        2    mariokeller       2"
      ]
     },
     "metadata": {},
     "output_type": "display_data"
    },
    {
     "name": "stdout",
     "output_type": "stream",
     "text": [
      "<class 'pandas.core.frame.DataFrame'>\n",
      "RangeIndex: 6456 entries, 0 to 6455\n",
      "Data columns (total 4 columns):\n",
      " #   Column     Non-Null Count  Dtype \n",
      "---  ------     --------------  ----- \n",
      " 0   rating_id  6456 non-null   int64 \n",
      " 1   book_id    6456 non-null   int64 \n",
      " 2   username   6456 non-null   object\n",
      " 3   rating     6456 non-null   int64 \n",
      "dtypes: int64(3), object(1)\n",
      "memory usage: 201.9+ KB\n"
     ]
    },
    {
     "data": {
      "text/plain": [
       "None"
      ]
     },
     "metadata": {},
     "output_type": "display_data"
    },
    {
     "name": "stdout",
     "output_type": "stream",
     "text": [
      "reviews\n"
     ]
    },
    {
     "data": {
      "text/html": [
       "<div>\n",
       "<style scoped>\n",
       "    .dataframe tbody tr th:only-of-type {\n",
       "        vertical-align: middle;\n",
       "    }\n",
       "\n",
       "    .dataframe tbody tr th {\n",
       "        vertical-align: top;\n",
       "    }\n",
       "\n",
       "    .dataframe thead th {\n",
       "        text-align: right;\n",
       "    }\n",
       "</style>\n",
       "<table border=\"1\" class=\"dataframe\">\n",
       "  <thead>\n",
       "    <tr style=\"text-align: right;\">\n",
       "      <th></th>\n",
       "      <th>review_id</th>\n",
       "      <th>book_id</th>\n",
       "      <th>username</th>\n",
       "      <th>text</th>\n",
       "    </tr>\n",
       "  </thead>\n",
       "  <tbody>\n",
       "    <tr>\n",
       "      <th>0</th>\n",
       "      <td>1</td>\n",
       "      <td>1</td>\n",
       "      <td>brandtandrea</td>\n",
       "      <td>Mention society tell send professor analysis. ...</td>\n",
       "    </tr>\n",
       "    <tr>\n",
       "      <th>1</th>\n",
       "      <td>2</td>\n",
       "      <td>1</td>\n",
       "      <td>ryanfranco</td>\n",
       "      <td>Foot glass pretty audience hit themselves. Amo...</td>\n",
       "    </tr>\n",
       "    <tr>\n",
       "      <th>2</th>\n",
       "      <td>3</td>\n",
       "      <td>2</td>\n",
       "      <td>lorichen</td>\n",
       "      <td>Listen treat keep worry. Miss husband tax but ...</td>\n",
       "    </tr>\n",
       "    <tr>\n",
       "      <th>3</th>\n",
       "      <td>4</td>\n",
       "      <td>3</td>\n",
       "      <td>johnsonamanda</td>\n",
       "      <td>Finally month interesting blue could nature cu...</td>\n",
       "    </tr>\n",
       "    <tr>\n",
       "      <th>4</th>\n",
       "      <td>5</td>\n",
       "      <td>3</td>\n",
       "      <td>scotttamara</td>\n",
       "      <td>Nation purpose heavy give wait song will. List...</td>\n",
       "    </tr>\n",
       "  </tbody>\n",
       "</table>\n",
       "</div>"
      ],
      "text/plain": [
       "   review_id  book_id       username  \\\n",
       "0          1        1   brandtandrea   \n",
       "1          2        1     ryanfranco   \n",
       "2          3        2       lorichen   \n",
       "3          4        3  johnsonamanda   \n",
       "4          5        3    scotttamara   \n",
       "\n",
       "                                                text  \n",
       "0  Mention society tell send professor analysis. ...  \n",
       "1  Foot glass pretty audience hit themselves. Amo...  \n",
       "2  Listen treat keep worry. Miss husband tax but ...  \n",
       "3  Finally month interesting blue could nature cu...  \n",
       "4  Nation purpose heavy give wait song will. List...  "
      ]
     },
     "metadata": {},
     "output_type": "display_data"
    },
    {
     "name": "stdout",
     "output_type": "stream",
     "text": [
      "<class 'pandas.core.frame.DataFrame'>\n",
      "RangeIndex: 2793 entries, 0 to 2792\n",
      "Data columns (total 4 columns):\n",
      " #   Column     Non-Null Count  Dtype \n",
      "---  ------     --------------  ----- \n",
      " 0   review_id  2793 non-null   int64 \n",
      " 1   book_id    2793 non-null   int64 \n",
      " 2   username   2793 non-null   object\n",
      " 3   text       2793 non-null   object\n",
      "dtypes: int64(2), object(2)\n",
      "memory usage: 87.4+ KB\n"
     ]
    },
    {
     "data": {
      "text/plain": [
       "None"
      ]
     },
     "metadata": {},
     "output_type": "display_data"
    }
   ],
   "source": [
    "def get_and_print_table(table_name, engine):\n",
    "    '''\n",
    "    функция для получения таблиц и вывода первых 5 строк\n",
    "    принимает: название таблицы, коннектор к БД\n",
    "    выводит: первые 5 строк таблицы\n",
    "    возвращает: таблицу целиком\n",
    "    '''\n",
    "    # формируем запрос, запрашиваем всю таблицу, чтобы выгрузить ее в переменную для работы\n",
    "    query = '''\n",
    "    SELECT *\n",
    "    FROM {};\n",
    "    '''.format(table_name)\n",
    "    \n",
    "    # получаем таблицу в переменную\n",
    "    table = pd.io.sql.read_sql(query, con=engine)\n",
    "    \n",
    "    # выводим название таблицы, и первые 5 строк\n",
    "    print(table_name)\n",
    "    display(table.head())\n",
    "    display(table.info())\n",
    "    \n",
    "    return table\n",
    "    \n",
    "# выносим список названий таблиц в отдельную переменную\n",
    "table_list = ['books', 'authors', 'publishers', 'ratings', 'reviews']\n",
    "\n",
    "# создаем словарь для таблиц\n",
    "tables = {}\n",
    "\n",
    "# заполняем словарь таблицами\n",
    "for table_name in table_list:\n",
    "    tables[table_name] = get_and_print_table(table_name, engine)"
   ]
  },
  {
   "cell_type": "markdown",
   "id": "30d982af",
   "metadata": {},
   "source": [
    "Вывод:\n",
    "- В таблицах имеются данные о 1000 книг, 636 авторов, 340 издательствах, 6456 оценках и 2793 отзывах.\n",
    "- Пропусков в данных нет."
   ]
  },
  {
   "cell_type": "markdown",
   "id": "1590d7b9",
   "metadata": {},
   "source": [
    "### Анализ дубликатов <a id=\"duplicates\"></a>"
   ]
  },
  {
   "cell_type": "markdown",
   "id": "97b20c20",
   "metadata": {},
   "source": [
    "Проверим, есть ли явные дубликаты данных в каждой из таблиц."
   ]
  },
  {
   "cell_type": "code",
   "execution_count": 4,
   "id": "966f3f6d",
   "metadata": {},
   "outputs": [
    {
     "name": "stdout",
     "output_type": "stream",
     "text": [
      "Количество дубликатов в таблице books: 0\n",
      "Количество дубликатов в таблице authors: 0\n",
      "Количество дубликатов в таблице publishers: 0\n",
      "Количество дубликатов в таблице ratings: 0\n",
      "Количество дубликатов в таблице reviews: 0\n"
     ]
    }
   ],
   "source": [
    "for table_name in table_list:\n",
    "    print('Количество дубликатов в таблице {}: {}'.format(table_name, tables[table_name].duplicated().sum()))"
   ]
  },
  {
   "cell_type": "markdown",
   "id": "045d35e4",
   "metadata": {},
   "source": [
    "Явных дубликатов ни в одной из таблиц нет.\n",
    "\n",
    "Также проверим, есть ли дублирующиеся оценки и отзывы от пользователей, то есть посмотрим наличие пользователей, оценивших или написавших отзыв по одной и той же книге несколько раз."
   ]
  },
  {
   "cell_type": "code",
   "execution_count": 5,
   "id": "18b430b1",
   "metadata": {},
   "outputs": [
    {
     "name": "stdout",
     "output_type": "stream",
     "text": [
      "Количество дубликатов значений книги и пользователя в таблице ratings: 0\n",
      "Количество дубликатов значений книги и пользователя в таблице reviews: 0\n"
     ]
    }
   ],
   "source": [
    "print('Количество дубликатов значений книги и пользователя в таблице ratings: {}'.format(\n",
    "    tables['ratings'].loc[:, ['book_id', 'username']].duplicated().sum()\n",
    "))\n",
    "print('Количество дубликатов значений книги и пользователя в таблице reviews: {}'.format(\n",
    "    tables['reviews'].loc[:, ['book_id', 'username']].duplicated().sum()\n",
    "))"
   ]
  },
  {
   "cell_type": "markdown",
   "id": "166596ab",
   "metadata": {},
   "source": [
    "Вывод:\n",
    "- Явных дубликатов ни в одной из таблиц нет.\n",
    "- Также нет пользователей, которые оставили несколько оценок или отзывов по одной и той же книге."
   ]
  },
  {
   "cell_type": "markdown",
   "id": "f6b29dab",
   "metadata": {},
   "source": [
    "## Получение данных для анализа <a id=\"requests\"></a>"
   ]
  },
  {
   "cell_type": "markdown",
   "id": "20842ffb",
   "metadata": {},
   "source": [
    "### Анализ книг 21 века <a id=\"xxi\"></a>"
   ]
  },
  {
   "cell_type": "markdown",
   "id": "b73cdf94",
   "metadata": {},
   "source": [
    "Посчитаем, сколько книг вышло после 1 января 2000 года (не включительно)."
   ]
  },
  {
   "cell_type": "code",
   "execution_count": 6,
   "id": "bb2df460",
   "metadata": {
    "scrolled": true
   },
   "outputs": [
    {
     "data": {
      "text/html": [
       "<div>\n",
       "<style scoped>\n",
       "    .dataframe tbody tr th:only-of-type {\n",
       "        vertical-align: middle;\n",
       "    }\n",
       "\n",
       "    .dataframe tbody tr th {\n",
       "        vertical-align: top;\n",
       "    }\n",
       "\n",
       "    .dataframe thead th {\n",
       "        text-align: right;\n",
       "    }\n",
       "</style>\n",
       "<table border=\"1\" class=\"dataframe\">\n",
       "  <thead>\n",
       "    <tr style=\"text-align: right;\">\n",
       "      <th></th>\n",
       "      <th>count</th>\n",
       "    </tr>\n",
       "  </thead>\n",
       "  <tbody>\n",
       "    <tr>\n",
       "      <th>0</th>\n",
       "      <td>819</td>\n",
       "    </tr>\n",
       "  </tbody>\n",
       "</table>\n",
       "</div>"
      ],
      "text/plain": [
       "   count\n",
       "0    819"
      ]
     },
     "metadata": {},
     "output_type": "display_data"
    }
   ],
   "source": [
    "# формируем запрос\n",
    "query = '''\n",
    "SELECT COUNT(*)\n",
    "FROM books\n",
    "WHERE publication_date > '2000-01-01';\n",
    "'''\n",
    "    \n",
    "# выводим результат\n",
    "display(pd.io.sql.read_sql(query, con=engine))"
   ]
  },
  {
   "cell_type": "markdown",
   "id": "223e5d34",
   "metadata": {},
   "source": [
    "После 1 января 2000 года вышло 819 книг."
   ]
  },
  {
   "cell_type": "markdown",
   "id": "47020c6a",
   "metadata": {},
   "source": [
    "### Анализ обзоров и средних оценок <a id=\"review\"></a>"
   ]
  },
  {
   "cell_type": "markdown",
   "id": "af9237a0",
   "metadata": {},
   "source": [
    "Для каждой книги посчитаем количество обзоров и среднюю оценку."
   ]
  },
  {
   "cell_type": "code",
   "execution_count": 7,
   "id": "d58a00b6",
   "metadata": {},
   "outputs": [
    {
     "data": {
      "text/html": [
       "<div>\n",
       "<style scoped>\n",
       "    .dataframe tbody tr th:only-of-type {\n",
       "        vertical-align: middle;\n",
       "    }\n",
       "\n",
       "    .dataframe tbody tr th {\n",
       "        vertical-align: top;\n",
       "    }\n",
       "\n",
       "    .dataframe thead th {\n",
       "        text-align: right;\n",
       "    }\n",
       "</style>\n",
       "<table border=\"1\" class=\"dataframe\">\n",
       "  <thead>\n",
       "    <tr style=\"text-align: right;\">\n",
       "      <th></th>\n",
       "      <th>title</th>\n",
       "      <th>reviews_count</th>\n",
       "      <th>avg_rating</th>\n",
       "    </tr>\n",
       "  </thead>\n",
       "  <tbody>\n",
       "    <tr>\n",
       "      <th>0</th>\n",
       "      <td>Twilight (Twilight  #1)</td>\n",
       "      <td>7</td>\n",
       "      <td>3.662500</td>\n",
       "    </tr>\n",
       "    <tr>\n",
       "      <th>1</th>\n",
       "      <td>Harry Potter and the Prisoner of Azkaban (Harr...</td>\n",
       "      <td>6</td>\n",
       "      <td>4.414634</td>\n",
       "    </tr>\n",
       "    <tr>\n",
       "      <th>2</th>\n",
       "      <td>Harry Potter and the Chamber of Secrets (Harry...</td>\n",
       "      <td>6</td>\n",
       "      <td>4.287500</td>\n",
       "    </tr>\n",
       "    <tr>\n",
       "      <th>3</th>\n",
       "      <td>The Book Thief</td>\n",
       "      <td>6</td>\n",
       "      <td>4.264151</td>\n",
       "    </tr>\n",
       "    <tr>\n",
       "      <th>4</th>\n",
       "      <td>The Glass Castle</td>\n",
       "      <td>6</td>\n",
       "      <td>4.206897</td>\n",
       "    </tr>\n",
       "    <tr>\n",
       "      <th>...</th>\n",
       "      <td>...</td>\n",
       "      <td>...</td>\n",
       "      <td>...</td>\n",
       "    </tr>\n",
       "    <tr>\n",
       "      <th>995</th>\n",
       "      <td>Disney's Beauty and the Beast (A Little Golden...</td>\n",
       "      <td>0</td>\n",
       "      <td>4.000000</td>\n",
       "    </tr>\n",
       "    <tr>\n",
       "      <th>996</th>\n",
       "      <td>Leonardo's Notebooks</td>\n",
       "      <td>0</td>\n",
       "      <td>4.000000</td>\n",
       "    </tr>\n",
       "    <tr>\n",
       "      <th>997</th>\n",
       "      <td>Essential Tales and Poems</td>\n",
       "      <td>0</td>\n",
       "      <td>4.000000</td>\n",
       "    </tr>\n",
       "    <tr>\n",
       "      <th>998</th>\n",
       "      <td>Anne Rice's The Vampire Lestat: A Graphic Novel</td>\n",
       "      <td>0</td>\n",
       "      <td>3.666667</td>\n",
       "    </tr>\n",
       "    <tr>\n",
       "      <th>999</th>\n",
       "      <td>The Natural Way to Draw</td>\n",
       "      <td>0</td>\n",
       "      <td>3.000000</td>\n",
       "    </tr>\n",
       "  </tbody>\n",
       "</table>\n",
       "<p>1000 rows × 3 columns</p>\n",
       "</div>"
      ],
      "text/plain": [
       "                                                 title  reviews_count  \\\n",
       "0                              Twilight (Twilight  #1)              7   \n",
       "1    Harry Potter and the Prisoner of Azkaban (Harr...              6   \n",
       "2    Harry Potter and the Chamber of Secrets (Harry...              6   \n",
       "3                                       The Book Thief              6   \n",
       "4                                     The Glass Castle              6   \n",
       "..                                                 ...            ...   \n",
       "995  Disney's Beauty and the Beast (A Little Golden...              0   \n",
       "996                               Leonardo's Notebooks              0   \n",
       "997                          Essential Tales and Poems              0   \n",
       "998    Anne Rice's The Vampire Lestat: A Graphic Novel              0   \n",
       "999                            The Natural Way to Draw              0   \n",
       "\n",
       "     avg_rating  \n",
       "0      3.662500  \n",
       "1      4.414634  \n",
       "2      4.287500  \n",
       "3      4.264151  \n",
       "4      4.206897  \n",
       "..          ...  \n",
       "995    4.000000  \n",
       "996    4.000000  \n",
       "997    4.000000  \n",
       "998    3.666667  \n",
       "999    3.000000  \n",
       "\n",
       "[1000 rows x 3 columns]"
      ]
     },
     "metadata": {},
     "output_type": "display_data"
    }
   ],
   "source": [
    "# формируем запрос\n",
    "# используем LEFT JOIN, чтобы учитывать книги без обзоров и рейтингов, если такие есть\n",
    "# сортируем по убыванию количества обзоров и рейтинга\n",
    "query = '''\n",
    "SELECT b.title,\n",
    "    COUNT(DISTINCT re.review_id) AS reviews_count,\n",
    "    AVG(ra.rating) AS avg_rating\n",
    "FROM books AS b\n",
    "LEFT JOIN ratings AS ra ON b.book_id = ra.book_id\n",
    "LEFT JOIN reviews AS re ON b.book_id = re.book_id\n",
    "GROUP BY b.book_id\n",
    "ORDER BY reviews_count DESC,\n",
    "    avg_rating DESC;\n",
    "'''\n",
    "\n",
    "    \n",
    "# выводим результат\n",
    "display(pd.io.sql.read_sql(query, con=engine))"
   ]
  },
  {
   "cell_type": "markdown",
   "id": "cbd4b107",
   "metadata": {},
   "source": [
    "Выводы:\n",
    "- В данных есть одна книга `Twilight (Twilight #1)` с самым большим количеством обзоров (7).\n",
    "- Остальные книги имеют 6 обзоров и меньше.\n",
    "- В данных присутствуют книги без единого обзора, но с проставленными рейтингами."
   ]
  },
  {
   "cell_type": "markdown",
   "id": "58cdf84c",
   "metadata": {},
   "source": [
    "### Анализ самого активного издательства <a id=\"publishers\"></a>"
   ]
  },
  {
   "cell_type": "markdown",
   "id": "c2f707a1",
   "metadata": {},
   "source": [
    "Найдем издательство, которое выпустило наибольшее число книг толще 50 страниц - так мы исключим из анализа брошюры. Выведем топ-5 издательств по количеству таких выпущенных книг."
   ]
  },
  {
   "cell_type": "code",
   "execution_count": 8,
   "id": "d29600a9",
   "metadata": {},
   "outputs": [
    {
     "data": {
      "text/html": [
       "<div>\n",
       "<style scoped>\n",
       "    .dataframe tbody tr th:only-of-type {\n",
       "        vertical-align: middle;\n",
       "    }\n",
       "\n",
       "    .dataframe tbody tr th {\n",
       "        vertical-align: top;\n",
       "    }\n",
       "\n",
       "    .dataframe thead th {\n",
       "        text-align: right;\n",
       "    }\n",
       "</style>\n",
       "<table border=\"1\" class=\"dataframe\">\n",
       "  <thead>\n",
       "    <tr style=\"text-align: right;\">\n",
       "      <th></th>\n",
       "      <th>publisher</th>\n",
       "      <th>count</th>\n",
       "    </tr>\n",
       "  </thead>\n",
       "  <tbody>\n",
       "    <tr>\n",
       "      <th>0</th>\n",
       "      <td>Penguin Books</td>\n",
       "      <td>42</td>\n",
       "    </tr>\n",
       "    <tr>\n",
       "      <th>1</th>\n",
       "      <td>Vintage</td>\n",
       "      <td>31</td>\n",
       "    </tr>\n",
       "    <tr>\n",
       "      <th>2</th>\n",
       "      <td>Grand Central Publishing</td>\n",
       "      <td>25</td>\n",
       "    </tr>\n",
       "    <tr>\n",
       "      <th>3</th>\n",
       "      <td>Penguin Classics</td>\n",
       "      <td>24</td>\n",
       "    </tr>\n",
       "    <tr>\n",
       "      <th>4</th>\n",
       "      <td>Ballantine Books</td>\n",
       "      <td>19</td>\n",
       "    </tr>\n",
       "  </tbody>\n",
       "</table>\n",
       "</div>"
      ],
      "text/plain": [
       "                  publisher  count\n",
       "0             Penguin Books     42\n",
       "1                   Vintage     31\n",
       "2  Grand Central Publishing     25\n",
       "3          Penguin Classics     24\n",
       "4          Ballantine Books     19"
      ]
     },
     "metadata": {},
     "output_type": "display_data"
    }
   ],
   "source": [
    "# формируем запрос\n",
    "# выводим топ-5 на случай, если будет несколько издательств с одинаковым количеством выпущенных книг\n",
    "query = '''\n",
    "SELECT pu.publisher,\n",
    "    COUNT(DISTINCT b.book_id) AS count\n",
    "FROM books AS b\n",
    "JOIN publishers AS pu ON b.publisher_id = pu.publisher_id\n",
    "WHERE b.num_pages > 50\n",
    "GROUP BY pu.publisher_id\n",
    "ORDER BY count DESC\n",
    "LIMIT 5;\n",
    "'''\n",
    "    \n",
    "# выводим результат\n",
    "display(pd.io.sql.read_sql(query, con=engine))"
   ]
  },
  {
   "cell_type": "markdown",
   "id": "46387c6f",
   "metadata": {},
   "source": [
    "Больше всего книг толще 50 страниц выпустило издательство `Penguin Books`. Они выпустили 42 книги."
   ]
  },
  {
   "cell_type": "markdown",
   "id": "4ae7b08a",
   "metadata": {},
   "source": [
    "### Анализ самого высокооцененного автора <a id=\"author\"></a>"
   ]
  },
  {
   "cell_type": "markdown",
   "id": "ee1778eb",
   "metadata": {},
   "source": [
    "Найдем автора с самой высокой средней оценкой книг. Для анализа будем учитывать только книги с 50 и более оценками. Выведем топ-5 таких авторов."
   ]
  },
  {
   "cell_type": "code",
   "execution_count": 9,
   "id": "a20ec4fd",
   "metadata": {},
   "outputs": [
    {
     "data": {
      "text/html": [
       "<div>\n",
       "<style scoped>\n",
       "    .dataframe tbody tr th:only-of-type {\n",
       "        vertical-align: middle;\n",
       "    }\n",
       "\n",
       "    .dataframe tbody tr th {\n",
       "        vertical-align: top;\n",
       "    }\n",
       "\n",
       "    .dataframe thead th {\n",
       "        text-align: right;\n",
       "    }\n",
       "</style>\n",
       "<table border=\"1\" class=\"dataframe\">\n",
       "  <thead>\n",
       "    <tr style=\"text-align: right;\">\n",
       "      <th></th>\n",
       "      <th>author</th>\n",
       "      <th>avg_rating</th>\n",
       "    </tr>\n",
       "  </thead>\n",
       "  <tbody>\n",
       "    <tr>\n",
       "      <th>0</th>\n",
       "      <td>J.K. Rowling/Mary GrandPré</td>\n",
       "      <td>4.283844</td>\n",
       "    </tr>\n",
       "    <tr>\n",
       "      <th>1</th>\n",
       "      <td>Markus Zusak/Cao Xuân Việt Khương</td>\n",
       "      <td>4.264151</td>\n",
       "    </tr>\n",
       "    <tr>\n",
       "      <th>2</th>\n",
       "      <td>J.R.R. Tolkien</td>\n",
       "      <td>4.258446</td>\n",
       "    </tr>\n",
       "    <tr>\n",
       "      <th>3</th>\n",
       "      <td>Louisa May Alcott</td>\n",
       "      <td>4.192308</td>\n",
       "    </tr>\n",
       "    <tr>\n",
       "      <th>4</th>\n",
       "      <td>Rick Riordan</td>\n",
       "      <td>4.080645</td>\n",
       "    </tr>\n",
       "  </tbody>\n",
       "</table>\n",
       "</div>"
      ],
      "text/plain": [
       "                              author  avg_rating\n",
       "0         J.K. Rowling/Mary GrandPré    4.283844\n",
       "1  Markus Zusak/Cao Xuân Việt Khương    4.264151\n",
       "2                     J.R.R. Tolkien    4.258446\n",
       "3                  Louisa May Alcott    4.192308\n",
       "4                       Rick Riordan    4.080645"
      ]
     },
     "metadata": {},
     "output_type": "display_data"
    }
   ],
   "source": [
    "# формируем запрос\n",
    "# выводим топ-5 на случай, если будет несколько авторов с одинаковой оценкой книг\n",
    "# для удобства список книг и их средних рейтингов вынесли в отдельную таблицу\n",
    "query = '''\n",
    "WITH avg_ratings AS\n",
    "(\n",
    "SELECT b.book_id,\n",
    "    AVG(ra.rating) AS avg_rating\n",
    "FROM books AS b\n",
    "JOIN ratings AS ra ON b.book_id = ra.book_id\n",
    "GROUP BY b.book_id\n",
    "HAVING COUNT(DISTINCT ra.rating_id) >= 50\n",
    ")\n",
    "\n",
    "SELECT a.author,\n",
    "    AVG(avg.avg_rating) AS avg_rating\n",
    "FROM authors AS a\n",
    "JOIN books AS b ON a.author_id = b.author_id\n",
    "JOIN avg_ratings AS avg ON b.book_id = avg.book_id\n",
    "GROUP BY a.author_id\n",
    "ORDER BY avg_rating DESC\n",
    "LIMIT 5;\n",
    "'''\n",
    "    \n",
    "# выводим результат\n",
    "display(pd.io.sql.read_sql(query, con=engine))"
   ]
  },
  {
   "cell_type": "markdown",
   "id": "30ea5dff",
   "metadata": {},
   "source": [
    "У автора `J.K. Rowling/Mary GrandPré` самая высокая средняя оценка книг (4.28), которые имеют 50 и более оценок."
   ]
  },
  {
   "cell_type": "markdown",
   "id": "045e3fb6",
   "metadata": {},
   "source": [
    "### Анализ активных пользователей <a id=\"users\"></a>"
   ]
  },
  {
   "cell_type": "markdown",
   "id": "d66e9ede",
   "metadata": {},
   "source": [
    "Посчитаем среднее количество обзоров от пользователей, которые поставили больше 50 оценок."
   ]
  },
  {
   "cell_type": "code",
   "execution_count": 10,
   "id": "ade8b6e4",
   "metadata": {},
   "outputs": [
    {
     "data": {
      "text/html": [
       "<div>\n",
       "<style scoped>\n",
       "    .dataframe tbody tr th:only-of-type {\n",
       "        vertical-align: middle;\n",
       "    }\n",
       "\n",
       "    .dataframe tbody tr th {\n",
       "        vertical-align: top;\n",
       "    }\n",
       "\n",
       "    .dataframe thead th {\n",
       "        text-align: right;\n",
       "    }\n",
       "</style>\n",
       "<table border=\"1\" class=\"dataframe\">\n",
       "  <thead>\n",
       "    <tr style=\"text-align: right;\">\n",
       "      <th></th>\n",
       "      <th>avg</th>\n",
       "    </tr>\n",
       "  </thead>\n",
       "  <tbody>\n",
       "    <tr>\n",
       "      <th>0</th>\n",
       "      <td>24.333333</td>\n",
       "    </tr>\n",
       "  </tbody>\n",
       "</table>\n",
       "</div>"
      ],
      "text/plain": [
       "         avg\n",
       "0  24.333333"
      ]
     },
     "metadata": {},
     "output_type": "display_data"
    }
   ],
   "source": [
    "# формируем запрос\n",
    "query = '''\n",
    "WITH c AS\n",
    "(\n",
    "SELECT ra.username,\n",
    "    COUNT(DISTINCT re.review_id) AS count_reviews\n",
    "FROM ratings AS ra\n",
    "LEFT JOIN reviews AS re ON ra.username = re.username\n",
    "GROUP BY ra.username\n",
    "HAVING COUNT(DISTINCT ra.rating_id) > 50\n",
    ")\n",
    "\n",
    "SELECT AVG(count_reviews)\n",
    "FROM c;\n",
    "'''\n",
    "    \n",
    "# выводим результат\n",
    "display(pd.io.sql.read_sql(query, con=engine))"
   ]
  },
  {
   "cell_type": "markdown",
   "id": "c445a449",
   "metadata": {},
   "source": [
    "Пользователи, которые поставили больше 50 оценок, в среднем пишут 24.3 обзора."
   ]
  },
  {
   "cell_type": "markdown",
   "id": "a77167a0",
   "metadata": {},
   "source": [
    "## Общий вывод <a id=\"total\"></a>"
   ]
  },
  {
   "cell_type": "markdown",
   "id": "93963786",
   "metadata": {},
   "source": [
    "- В таблицах имеются данные о 1000 книг, 636 авторов, 340 издательствах, 6456 оценках и 2793 отзывах.\n",
    "- Пропусков и дубликатов в данных нет.\n",
    "- После 1 января 2000 года вышло 819 книг.\n",
    "- В данных есть одна книга `Twilight (Twilight #1)` с самым большим количеством обзоров (7 шт).\n",
    "- Остальные книги имеют 6 обзоров и меньше.\n",
    "- Также присутствуют книги без единого обзора, но с проставленными рейтингами.\n",
    "- Больше всего книг толще 50 страниц выпустило издательство `Penguin Books` (42 книги).\n",
    "- У автора `J.K. Rowling/Mary GrandPré` самая высокая средняя оценка книг (4.28), которые имеют 50 и более оценок.\n",
    "- Пользователи, которые поставили больше 50 оценок, в среднем пишут 24.3 обзора."
   ]
  }
 ],
 "metadata": {
  "ExecuteTimeLog": [
   {
    "duration": 499,
    "start_time": "2022-12-17T11:14:52.925Z"
   },
   {
    "duration": 4682,
    "start_time": "2022-12-17T11:14:53.426Z"
   },
   {
    "duration": 531,
    "start_time": "2022-12-17T11:14:58.109Z"
   },
   {
    "duration": 70,
    "start_time": "2022-12-17T11:14:58.642Z"
   },
   {
    "duration": 108,
    "start_time": "2022-12-17T11:14:58.714Z"
   },
   {
    "duration": 71,
    "start_time": "2022-12-17T11:14:58.824Z"
   },
   {
    "duration": 78,
    "start_time": "2022-12-17T11:14:58.897Z"
   },
   {
    "duration": 101,
    "start_time": "2022-12-17T11:14:58.976Z"
   },
   {
    "duration": 519,
    "start_time": "2022-12-17T12:34:31.202Z"
   },
   {
    "duration": 5554,
    "start_time": "2022-12-17T12:34:31.723Z"
   },
   {
    "duration": 628,
    "start_time": "2022-12-17T12:34:37.279Z"
   },
   {
    "duration": 84,
    "start_time": "2022-12-17T12:34:37.909Z"
   },
   {
    "duration": 118,
    "start_time": "2022-12-17T12:34:37.994Z"
   },
   {
    "duration": 83,
    "start_time": "2022-12-17T12:34:38.113Z"
   },
   {
    "duration": 86,
    "start_time": "2022-12-17T12:34:38.198Z"
   },
   {
    "duration": 109,
    "start_time": "2022-12-17T12:34:38.287Z"
   },
   {
    "duration": 247,
    "start_time": "2022-12-17T12:36:30.800Z"
   },
   {
    "duration": 5,
    "start_time": "2022-12-17T12:36:45.177Z"
   },
   {
    "duration": 83,
    "start_time": "2022-12-17T12:42:16.616Z"
   },
   {
    "duration": 89,
    "start_time": "2022-12-17T12:42:42.594Z"
   },
   {
    "duration": 80,
    "start_time": "2022-12-17T12:42:59.097Z"
   },
   {
    "duration": 88,
    "start_time": "2022-12-17T12:43:22.311Z"
   },
   {
    "duration": 88,
    "start_time": "2022-12-17T12:43:25.597Z"
   },
   {
    "duration": 509,
    "start_time": "2022-12-18T10:05:54.307Z"
   },
   {
    "duration": 4779,
    "start_time": "2022-12-18T10:05:54.818Z"
   },
   {
    "duration": 674,
    "start_time": "2022-12-18T10:05:59.599Z"
   },
   {
    "duration": 11,
    "start_time": "2022-12-18T10:06:00.275Z"
   },
   {
    "duration": 113,
    "start_time": "2022-12-18T10:06:00.288Z"
   },
   {
    "duration": 0,
    "start_time": "2022-12-18T10:06:00.403Z"
   },
   {
    "duration": 0,
    "start_time": "2022-12-18T10:06:00.404Z"
   },
   {
    "duration": 0,
    "start_time": "2022-12-18T10:06:00.405Z"
   },
   {
    "duration": 0,
    "start_time": "2022-12-18T10:06:00.406Z"
   },
   {
    "duration": 0,
    "start_time": "2022-12-18T10:06:00.407Z"
   },
   {
    "duration": 9,
    "start_time": "2022-12-18T10:06:54.434Z"
   },
   {
    "duration": 580,
    "start_time": "2022-12-18T10:07:10.778Z"
   },
   {
    "duration": 4665,
    "start_time": "2022-12-18T10:07:11.361Z"
   },
   {
    "duration": 653,
    "start_time": "2022-12-18T10:07:16.028Z"
   },
   {
    "duration": 12,
    "start_time": "2022-12-18T10:07:16.684Z"
   },
   {
    "duration": 27,
    "start_time": "2022-12-18T10:07:16.698Z"
   },
   {
    "duration": 88,
    "start_time": "2022-12-18T10:07:16.726Z"
   },
   {
    "duration": 93,
    "start_time": "2022-12-18T10:07:16.816Z"
   },
   {
    "duration": 74,
    "start_time": "2022-12-18T10:07:16.910Z"
   },
   {
    "duration": 80,
    "start_time": "2022-12-18T10:07:16.985Z"
   },
   {
    "duration": 115,
    "start_time": "2022-12-18T10:07:17.067Z"
   },
   {
    "duration": 483,
    "start_time": "2022-12-18T17:04:29.107Z"
   },
   {
    "duration": 4611,
    "start_time": "2022-12-18T17:04:29.592Z"
   },
   {
    "duration": 649,
    "start_time": "2022-12-18T17:04:34.205Z"
   },
   {
    "duration": 12,
    "start_time": "2022-12-18T17:04:34.857Z"
   },
   {
    "duration": 8,
    "start_time": "2022-12-18T17:04:34.871Z"
   },
   {
    "duration": 70,
    "start_time": "2022-12-18T17:04:34.881Z"
   },
   {
    "duration": 98,
    "start_time": "2022-12-18T17:04:34.953Z"
   },
   {
    "duration": 75,
    "start_time": "2022-12-18T17:04:35.052Z"
   },
   {
    "duration": 79,
    "start_time": "2022-12-18T17:04:35.129Z"
   },
   {
    "duration": 102,
    "start_time": "2022-12-18T17:04:35.210Z"
   }
  ],
  "kernelspec": {
   "display_name": "Python 3 (ipykernel)",
   "language": "python",
   "name": "python3"
  },
  "language_info": {
   "codemirror_mode": {
    "name": "ipython",
    "version": 3
   },
   "file_extension": ".py",
   "mimetype": "text/x-python",
   "name": "python",
   "nbconvert_exporter": "python",
   "pygments_lexer": "ipython3",
   "version": "3.9.12"
  },
  "toc": {
   "base_numbering": 1,
   "nav_menu": {},
   "number_sections": true,
   "sideBar": true,
   "skip_h1_title": true,
   "title_cell": "Table of Contents",
   "title_sidebar": "Contents",
   "toc_cell": false,
   "toc_position": {
    "height": "calc(100% - 180px)",
    "left": "10px",
    "top": "150px",
    "width": "165px"
   },
   "toc_section_display": true,
   "toc_window_display": true
  }
 },
 "nbformat": 4,
 "nbformat_minor": 5
}
