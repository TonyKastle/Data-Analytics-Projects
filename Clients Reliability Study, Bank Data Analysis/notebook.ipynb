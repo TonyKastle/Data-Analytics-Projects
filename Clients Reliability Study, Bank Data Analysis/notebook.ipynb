{
 "cells": [
  {
   "cell_type": "markdown",
   "id": "c81daeeb",
   "metadata": {
    "deletable": false,
    "id": "c81daeeb"
   },
   "source": [
    "# Исследование надежности заемщиков\n"
   ]
  },
  {
   "cell_type": "markdown",
   "id": "443ab866",
   "metadata": {},
   "source": [
    "## Оглавление"
   ]
  },
  {
   "cell_type": "markdown",
   "id": "844f9e85",
   "metadata": {},
   "source": [
    "1. [Введение](#intro)\n",
    "2. [Открытие данных](#open)\n",
    "3. [Предобработка данных](#preprocessing)\n",
    "    1. [Обработка пропусков](#null)\n",
    "    2. [Обработка аномальных значений](#anomalies)\n",
    "    3. [Обработка пропусков в трудовом стаже](#null_days_employeed)\n",
    "    4. [Изменение типов данных](#types)\n",
    "    5. [Обработка дубликатов](#duplicates)\n",
    "    6. [Категоризация данных](#categorization)\n",
    "4. [Анализ данных](#analys)\n",
    "    1. [Анализ зависимости возврата кредита от количества детей](#children)\n",
    "    2. [Анализ зависимости возврата кредита от семейного положения](#family_status)\n",
    "    3. [Анализ зависимости возврата кредита от уровня дохода](#income)\n",
    "    4. [Анализ зависимости возврата кредита от целей кредита](#purpose)\n",
    "5. [Общий вывод](#total)"
   ]
  },
  {
   "cell_type": "markdown",
   "id": "de6931e7",
   "metadata": {},
   "source": [
    "## Введение <a id=\"intro\"></a>"
   ]
  },
  {
   "cell_type": "markdown",
   "id": "de819bbd",
   "metadata": {},
   "source": [
    "Задача:\n",
    "- На основе статистики о платёжеспособности клиентов исследовать, влияет ли семейное положение и количество детей клиента на факт возврата кредита в срок."
   ]
  },
  {
   "cell_type": "markdown",
   "id": "744d7639",
   "metadata": {
    "deletable": false,
    "id": "744d7639"
   },
   "source": [
    "## Открытие данных <a id=\"open\"></a>"
   ]
  },
  {
   "cell_type": "markdown",
   "id": "e7a28705",
   "metadata": {},
   "source": [
    "Импортируем библиотеки, необходимые для работы."
   ]
  },
  {
   "cell_type": "code",
   "execution_count": 1,
   "id": "8ab752f8",
   "metadata": {},
   "outputs": [],
   "source": [
    "import pandas as pd\n",
    "import seaborn as sns"
   ]
  },
  {
   "cell_type": "markdown",
   "id": "e7a14c31",
   "metadata": {
    "deletable": false,
    "id": "e7a14c31"
   },
   "source": [
    "Откроем файл с данными, и выведем первые 10 строк."
   ]
  },
  {
   "cell_type": "code",
   "execution_count": 2,
   "id": "7bcf75c9",
   "metadata": {
    "deletable": false,
    "id": "7bcf75c9"
   },
   "outputs": [
    {
     "data": {
      "text/html": [
       "<div>\n",
       "<style scoped>\n",
       "    .dataframe tbody tr th:only-of-type {\n",
       "        vertical-align: middle;\n",
       "    }\n",
       "\n",
       "    .dataframe tbody tr th {\n",
       "        vertical-align: top;\n",
       "    }\n",
       "\n",
       "    .dataframe thead th {\n",
       "        text-align: right;\n",
       "    }\n",
       "</style>\n",
       "<table border=\"1\" class=\"dataframe\">\n",
       "  <thead>\n",
       "    <tr style=\"text-align: right;\">\n",
       "      <th></th>\n",
       "      <th>children</th>\n",
       "      <th>days_employed</th>\n",
       "      <th>dob_years</th>\n",
       "      <th>education</th>\n",
       "      <th>education_id</th>\n",
       "      <th>family_status</th>\n",
       "      <th>family_status_id</th>\n",
       "      <th>gender</th>\n",
       "      <th>income_type</th>\n",
       "      <th>debt</th>\n",
       "      <th>total_income</th>\n",
       "      <th>purpose</th>\n",
       "    </tr>\n",
       "  </thead>\n",
       "  <tbody>\n",
       "    <tr>\n",
       "      <th>0</th>\n",
       "      <td>1</td>\n",
       "      <td>-8437.673028</td>\n",
       "      <td>42</td>\n",
       "      <td>высшее</td>\n",
       "      <td>0</td>\n",
       "      <td>женат / замужем</td>\n",
       "      <td>0</td>\n",
       "      <td>F</td>\n",
       "      <td>сотрудник</td>\n",
       "      <td>0</td>\n",
       "      <td>253875.639453</td>\n",
       "      <td>покупка жилья</td>\n",
       "    </tr>\n",
       "    <tr>\n",
       "      <th>1</th>\n",
       "      <td>1</td>\n",
       "      <td>-4024.803754</td>\n",
       "      <td>36</td>\n",
       "      <td>среднее</td>\n",
       "      <td>1</td>\n",
       "      <td>женат / замужем</td>\n",
       "      <td>0</td>\n",
       "      <td>F</td>\n",
       "      <td>сотрудник</td>\n",
       "      <td>0</td>\n",
       "      <td>112080.014102</td>\n",
       "      <td>приобретение автомобиля</td>\n",
       "    </tr>\n",
       "    <tr>\n",
       "      <th>2</th>\n",
       "      <td>0</td>\n",
       "      <td>-5623.422610</td>\n",
       "      <td>33</td>\n",
       "      <td>Среднее</td>\n",
       "      <td>1</td>\n",
       "      <td>женат / замужем</td>\n",
       "      <td>0</td>\n",
       "      <td>M</td>\n",
       "      <td>сотрудник</td>\n",
       "      <td>0</td>\n",
       "      <td>145885.952297</td>\n",
       "      <td>покупка жилья</td>\n",
       "    </tr>\n",
       "    <tr>\n",
       "      <th>3</th>\n",
       "      <td>3</td>\n",
       "      <td>-4124.747207</td>\n",
       "      <td>32</td>\n",
       "      <td>среднее</td>\n",
       "      <td>1</td>\n",
       "      <td>женат / замужем</td>\n",
       "      <td>0</td>\n",
       "      <td>M</td>\n",
       "      <td>сотрудник</td>\n",
       "      <td>0</td>\n",
       "      <td>267628.550329</td>\n",
       "      <td>дополнительное образование</td>\n",
       "    </tr>\n",
       "    <tr>\n",
       "      <th>4</th>\n",
       "      <td>0</td>\n",
       "      <td>340266.072047</td>\n",
       "      <td>53</td>\n",
       "      <td>среднее</td>\n",
       "      <td>1</td>\n",
       "      <td>гражданский брак</td>\n",
       "      <td>1</td>\n",
       "      <td>F</td>\n",
       "      <td>пенсионер</td>\n",
       "      <td>0</td>\n",
       "      <td>158616.077870</td>\n",
       "      <td>сыграть свадьбу</td>\n",
       "    </tr>\n",
       "    <tr>\n",
       "      <th>5</th>\n",
       "      <td>0</td>\n",
       "      <td>-926.185831</td>\n",
       "      <td>27</td>\n",
       "      <td>высшее</td>\n",
       "      <td>0</td>\n",
       "      <td>гражданский брак</td>\n",
       "      <td>1</td>\n",
       "      <td>M</td>\n",
       "      <td>компаньон</td>\n",
       "      <td>0</td>\n",
       "      <td>255763.565419</td>\n",
       "      <td>покупка жилья</td>\n",
       "    </tr>\n",
       "    <tr>\n",
       "      <th>6</th>\n",
       "      <td>0</td>\n",
       "      <td>-2879.202052</td>\n",
       "      <td>43</td>\n",
       "      <td>высшее</td>\n",
       "      <td>0</td>\n",
       "      <td>женат / замужем</td>\n",
       "      <td>0</td>\n",
       "      <td>F</td>\n",
       "      <td>компаньон</td>\n",
       "      <td>0</td>\n",
       "      <td>240525.971920</td>\n",
       "      <td>операции с жильем</td>\n",
       "    </tr>\n",
       "    <tr>\n",
       "      <th>7</th>\n",
       "      <td>0</td>\n",
       "      <td>-152.779569</td>\n",
       "      <td>50</td>\n",
       "      <td>СРЕДНЕЕ</td>\n",
       "      <td>1</td>\n",
       "      <td>женат / замужем</td>\n",
       "      <td>0</td>\n",
       "      <td>M</td>\n",
       "      <td>сотрудник</td>\n",
       "      <td>0</td>\n",
       "      <td>135823.934197</td>\n",
       "      <td>образование</td>\n",
       "    </tr>\n",
       "    <tr>\n",
       "      <th>8</th>\n",
       "      <td>2</td>\n",
       "      <td>-6929.865299</td>\n",
       "      <td>35</td>\n",
       "      <td>ВЫСШЕЕ</td>\n",
       "      <td>0</td>\n",
       "      <td>гражданский брак</td>\n",
       "      <td>1</td>\n",
       "      <td>F</td>\n",
       "      <td>сотрудник</td>\n",
       "      <td>0</td>\n",
       "      <td>95856.832424</td>\n",
       "      <td>на проведение свадьбы</td>\n",
       "    </tr>\n",
       "    <tr>\n",
       "      <th>9</th>\n",
       "      <td>0</td>\n",
       "      <td>-2188.756445</td>\n",
       "      <td>41</td>\n",
       "      <td>среднее</td>\n",
       "      <td>1</td>\n",
       "      <td>женат / замужем</td>\n",
       "      <td>0</td>\n",
       "      <td>M</td>\n",
       "      <td>сотрудник</td>\n",
       "      <td>0</td>\n",
       "      <td>144425.938277</td>\n",
       "      <td>покупка жилья для семьи</td>\n",
       "    </tr>\n",
       "    <tr>\n",
       "      <th>10</th>\n",
       "      <td>2</td>\n",
       "      <td>-4171.483647</td>\n",
       "      <td>36</td>\n",
       "      <td>высшее</td>\n",
       "      <td>0</td>\n",
       "      <td>женат / замужем</td>\n",
       "      <td>0</td>\n",
       "      <td>M</td>\n",
       "      <td>компаньон</td>\n",
       "      <td>0</td>\n",
       "      <td>113943.491460</td>\n",
       "      <td>покупка недвижимости</td>\n",
       "    </tr>\n",
       "    <tr>\n",
       "      <th>11</th>\n",
       "      <td>0</td>\n",
       "      <td>-792.701887</td>\n",
       "      <td>40</td>\n",
       "      <td>среднее</td>\n",
       "      <td>1</td>\n",
       "      <td>женат / замужем</td>\n",
       "      <td>0</td>\n",
       "      <td>F</td>\n",
       "      <td>сотрудник</td>\n",
       "      <td>0</td>\n",
       "      <td>77069.234271</td>\n",
       "      <td>покупка коммерческой недвижимости</td>\n",
       "    </tr>\n",
       "    <tr>\n",
       "      <th>12</th>\n",
       "      <td>0</td>\n",
       "      <td>NaN</td>\n",
       "      <td>65</td>\n",
       "      <td>среднее</td>\n",
       "      <td>1</td>\n",
       "      <td>гражданский брак</td>\n",
       "      <td>1</td>\n",
       "      <td>M</td>\n",
       "      <td>пенсионер</td>\n",
       "      <td>0</td>\n",
       "      <td>NaN</td>\n",
       "      <td>сыграть свадьбу</td>\n",
       "    </tr>\n",
       "    <tr>\n",
       "      <th>13</th>\n",
       "      <td>0</td>\n",
       "      <td>-1846.641941</td>\n",
       "      <td>54</td>\n",
       "      <td>неоконченное высшее</td>\n",
       "      <td>2</td>\n",
       "      <td>женат / замужем</td>\n",
       "      <td>0</td>\n",
       "      <td>F</td>\n",
       "      <td>сотрудник</td>\n",
       "      <td>0</td>\n",
       "      <td>130458.228857</td>\n",
       "      <td>приобретение автомобиля</td>\n",
       "    </tr>\n",
       "    <tr>\n",
       "      <th>14</th>\n",
       "      <td>0</td>\n",
       "      <td>-1844.956182</td>\n",
       "      <td>56</td>\n",
       "      <td>высшее</td>\n",
       "      <td>0</td>\n",
       "      <td>гражданский брак</td>\n",
       "      <td>1</td>\n",
       "      <td>F</td>\n",
       "      <td>компаньон</td>\n",
       "      <td>1</td>\n",
       "      <td>165127.911772</td>\n",
       "      <td>покупка жилой недвижимости</td>\n",
       "    </tr>\n",
       "    <tr>\n",
       "      <th>15</th>\n",
       "      <td>1</td>\n",
       "      <td>-972.364419</td>\n",
       "      <td>26</td>\n",
       "      <td>среднее</td>\n",
       "      <td>1</td>\n",
       "      <td>женат / замужем</td>\n",
       "      <td>0</td>\n",
       "      <td>F</td>\n",
       "      <td>сотрудник</td>\n",
       "      <td>0</td>\n",
       "      <td>116820.904450</td>\n",
       "      <td>строительство собственной недвижимости</td>\n",
       "    </tr>\n",
       "    <tr>\n",
       "      <th>16</th>\n",
       "      <td>0</td>\n",
       "      <td>-1719.934226</td>\n",
       "      <td>35</td>\n",
       "      <td>среднее</td>\n",
       "      <td>1</td>\n",
       "      <td>женат / замужем</td>\n",
       "      <td>0</td>\n",
       "      <td>F</td>\n",
       "      <td>сотрудник</td>\n",
       "      <td>0</td>\n",
       "      <td>289202.704229</td>\n",
       "      <td>недвижимость</td>\n",
       "    </tr>\n",
       "    <tr>\n",
       "      <th>17</th>\n",
       "      <td>0</td>\n",
       "      <td>-2369.999720</td>\n",
       "      <td>33</td>\n",
       "      <td>высшее</td>\n",
       "      <td>0</td>\n",
       "      <td>гражданский брак</td>\n",
       "      <td>1</td>\n",
       "      <td>M</td>\n",
       "      <td>сотрудник</td>\n",
       "      <td>0</td>\n",
       "      <td>90410.586745</td>\n",
       "      <td>строительство недвижимости</td>\n",
       "    </tr>\n",
       "    <tr>\n",
       "      <th>18</th>\n",
       "      <td>0</td>\n",
       "      <td>400281.136913</td>\n",
       "      <td>53</td>\n",
       "      <td>среднее</td>\n",
       "      <td>1</td>\n",
       "      <td>вдовец / вдова</td>\n",
       "      <td>2</td>\n",
       "      <td>F</td>\n",
       "      <td>пенсионер</td>\n",
       "      <td>0</td>\n",
       "      <td>56823.777243</td>\n",
       "      <td>на покупку подержанного автомобиля</td>\n",
       "    </tr>\n",
       "    <tr>\n",
       "      <th>19</th>\n",
       "      <td>0</td>\n",
       "      <td>-10038.818549</td>\n",
       "      <td>48</td>\n",
       "      <td>СРЕДНЕЕ</td>\n",
       "      <td>1</td>\n",
       "      <td>в разводе</td>\n",
       "      <td>3</td>\n",
       "      <td>F</td>\n",
       "      <td>сотрудник</td>\n",
       "      <td>0</td>\n",
       "      <td>242831.107982</td>\n",
       "      <td>на покупку своего автомобиля</td>\n",
       "    </tr>\n",
       "  </tbody>\n",
       "</table>\n",
       "</div>"
      ],
      "text/plain": [
       "    children  days_employed  dob_years            education  education_id  \\\n",
       "0          1   -8437.673028         42               высшее             0   \n",
       "1          1   -4024.803754         36              среднее             1   \n",
       "2          0   -5623.422610         33              Среднее             1   \n",
       "3          3   -4124.747207         32              среднее             1   \n",
       "4          0  340266.072047         53              среднее             1   \n",
       "5          0    -926.185831         27               высшее             0   \n",
       "6          0   -2879.202052         43               высшее             0   \n",
       "7          0    -152.779569         50              СРЕДНЕЕ             1   \n",
       "8          2   -6929.865299         35               ВЫСШЕЕ             0   \n",
       "9          0   -2188.756445         41              среднее             1   \n",
       "10         2   -4171.483647         36               высшее             0   \n",
       "11         0    -792.701887         40              среднее             1   \n",
       "12         0            NaN         65              среднее             1   \n",
       "13         0   -1846.641941         54  неоконченное высшее             2   \n",
       "14         0   -1844.956182         56               высшее             0   \n",
       "15         1    -972.364419         26              среднее             1   \n",
       "16         0   -1719.934226         35              среднее             1   \n",
       "17         0   -2369.999720         33               высшее             0   \n",
       "18         0  400281.136913         53              среднее             1   \n",
       "19         0  -10038.818549         48              СРЕДНЕЕ             1   \n",
       "\n",
       "       family_status  family_status_id gender income_type  debt  \\\n",
       "0    женат / замужем                 0      F   сотрудник     0   \n",
       "1    женат / замужем                 0      F   сотрудник     0   \n",
       "2    женат / замужем                 0      M   сотрудник     0   \n",
       "3    женат / замужем                 0      M   сотрудник     0   \n",
       "4   гражданский брак                 1      F   пенсионер     0   \n",
       "5   гражданский брак                 1      M   компаньон     0   \n",
       "6    женат / замужем                 0      F   компаньон     0   \n",
       "7    женат / замужем                 0      M   сотрудник     0   \n",
       "8   гражданский брак                 1      F   сотрудник     0   \n",
       "9    женат / замужем                 0      M   сотрудник     0   \n",
       "10   женат / замужем                 0      M   компаньон     0   \n",
       "11   женат / замужем                 0      F   сотрудник     0   \n",
       "12  гражданский брак                 1      M   пенсионер     0   \n",
       "13   женат / замужем                 0      F   сотрудник     0   \n",
       "14  гражданский брак                 1      F   компаньон     1   \n",
       "15   женат / замужем                 0      F   сотрудник     0   \n",
       "16   женат / замужем                 0      F   сотрудник     0   \n",
       "17  гражданский брак                 1      M   сотрудник     0   \n",
       "18    вдовец / вдова                 2      F   пенсионер     0   \n",
       "19         в разводе                 3      F   сотрудник     0   \n",
       "\n",
       "     total_income                                 purpose  \n",
       "0   253875.639453                           покупка жилья  \n",
       "1   112080.014102                 приобретение автомобиля  \n",
       "2   145885.952297                           покупка жилья  \n",
       "3   267628.550329              дополнительное образование  \n",
       "4   158616.077870                         сыграть свадьбу  \n",
       "5   255763.565419                           покупка жилья  \n",
       "6   240525.971920                       операции с жильем  \n",
       "7   135823.934197                             образование  \n",
       "8    95856.832424                   на проведение свадьбы  \n",
       "9   144425.938277                 покупка жилья для семьи  \n",
       "10  113943.491460                    покупка недвижимости  \n",
       "11   77069.234271       покупка коммерческой недвижимости  \n",
       "12            NaN                         сыграть свадьбу  \n",
       "13  130458.228857                 приобретение автомобиля  \n",
       "14  165127.911772              покупка жилой недвижимости  \n",
       "15  116820.904450  строительство собственной недвижимости  \n",
       "16  289202.704229                            недвижимость  \n",
       "17   90410.586745              строительство недвижимости  \n",
       "18   56823.777243      на покупку подержанного автомобиля  \n",
       "19  242831.107982            на покупку своего автомобиля  "
      ]
     },
     "execution_count": 2,
     "metadata": {},
     "output_type": "execute_result"
    }
   ],
   "source": [
    "data = pd.read_csv('data.csv')\n",
    "data.head(20)"
   ]
  },
  {
   "cell_type": "markdown",
   "id": "1c12e233",
   "metadata": {
    "deletable": false,
    "id": "1c12e233"
   },
   "source": [
    "Выведем основную информацию о датафрейме."
   ]
  },
  {
   "cell_type": "code",
   "execution_count": 3,
   "id": "2b757bca",
   "metadata": {
    "deletable": false,
    "id": "2b757bca",
    "outputId": "15376089-8dad-46c9-b520-c05248d43158"
   },
   "outputs": [
    {
     "name": "stdout",
     "output_type": "stream",
     "text": [
      "<class 'pandas.core.frame.DataFrame'>\n",
      "RangeIndex: 21525 entries, 0 to 21524\n",
      "Data columns (total 12 columns):\n",
      " #   Column            Non-Null Count  Dtype  \n",
      "---  ------            --------------  -----  \n",
      " 0   children          21525 non-null  int64  \n",
      " 1   days_employed     19351 non-null  float64\n",
      " 2   dob_years         21525 non-null  int64  \n",
      " 3   education         21525 non-null  object \n",
      " 4   education_id      21525 non-null  int64  \n",
      " 5   family_status     21525 non-null  object \n",
      " 6   family_status_id  21525 non-null  int64  \n",
      " 7   gender            21525 non-null  object \n",
      " 8   income_type       21525 non-null  object \n",
      " 9   debt              21525 non-null  int64  \n",
      " 10  total_income      19351 non-null  float64\n",
      " 11  purpose           21525 non-null  object \n",
      "dtypes: float64(2), int64(5), object(5)\n",
      "memory usage: 2.0+ MB\n"
     ]
    },
    {
     "data": {
      "text/plain": [
       "None"
      ]
     },
     "metadata": {},
     "output_type": "display_data"
    },
    {
     "data": {
      "text/html": [
       "<div>\n",
       "<style scoped>\n",
       "    .dataframe tbody tr th:only-of-type {\n",
       "        vertical-align: middle;\n",
       "    }\n",
       "\n",
       "    .dataframe tbody tr th {\n",
       "        vertical-align: top;\n",
       "    }\n",
       "\n",
       "    .dataframe thead th {\n",
       "        text-align: right;\n",
       "    }\n",
       "</style>\n",
       "<table border=\"1\" class=\"dataframe\">\n",
       "  <thead>\n",
       "    <tr style=\"text-align: right;\">\n",
       "      <th></th>\n",
       "      <th>count</th>\n",
       "      <th>unique</th>\n",
       "      <th>top</th>\n",
       "      <th>freq</th>\n",
       "      <th>mean</th>\n",
       "      <th>std</th>\n",
       "      <th>min</th>\n",
       "      <th>25%</th>\n",
       "      <th>50%</th>\n",
       "      <th>75%</th>\n",
       "      <th>max</th>\n",
       "    </tr>\n",
       "  </thead>\n",
       "  <tbody>\n",
       "    <tr>\n",
       "      <th>children</th>\n",
       "      <td>21525.0</td>\n",
       "      <td>NaN</td>\n",
       "      <td>NaN</td>\n",
       "      <td>NaN</td>\n",
       "      <td>0.538908</td>\n",
       "      <td>1.381587</td>\n",
       "      <td>-1.0</td>\n",
       "      <td>0.0</td>\n",
       "      <td>0.0</td>\n",
       "      <td>1.0</td>\n",
       "      <td>20.0</td>\n",
       "    </tr>\n",
       "    <tr>\n",
       "      <th>days_employed</th>\n",
       "      <td>19351.0</td>\n",
       "      <td>NaN</td>\n",
       "      <td>NaN</td>\n",
       "      <td>NaN</td>\n",
       "      <td>63046.497661</td>\n",
       "      <td>140827.311974</td>\n",
       "      <td>-18388.949901</td>\n",
       "      <td>-2747.423625</td>\n",
       "      <td>-1203.369529</td>\n",
       "      <td>-291.095954</td>\n",
       "      <td>401755.400475</td>\n",
       "    </tr>\n",
       "    <tr>\n",
       "      <th>dob_years</th>\n",
       "      <td>21525.0</td>\n",
       "      <td>NaN</td>\n",
       "      <td>NaN</td>\n",
       "      <td>NaN</td>\n",
       "      <td>43.29338</td>\n",
       "      <td>12.574584</td>\n",
       "      <td>0.0</td>\n",
       "      <td>33.0</td>\n",
       "      <td>42.0</td>\n",
       "      <td>53.0</td>\n",
       "      <td>75.0</td>\n",
       "    </tr>\n",
       "    <tr>\n",
       "      <th>education</th>\n",
       "      <td>21525</td>\n",
       "      <td>15</td>\n",
       "      <td>среднее</td>\n",
       "      <td>13750</td>\n",
       "      <td>NaN</td>\n",
       "      <td>NaN</td>\n",
       "      <td>NaN</td>\n",
       "      <td>NaN</td>\n",
       "      <td>NaN</td>\n",
       "      <td>NaN</td>\n",
       "      <td>NaN</td>\n",
       "    </tr>\n",
       "    <tr>\n",
       "      <th>education_id</th>\n",
       "      <td>21525.0</td>\n",
       "      <td>NaN</td>\n",
       "      <td>NaN</td>\n",
       "      <td>NaN</td>\n",
       "      <td>0.817236</td>\n",
       "      <td>0.548138</td>\n",
       "      <td>0.0</td>\n",
       "      <td>1.0</td>\n",
       "      <td>1.0</td>\n",
       "      <td>1.0</td>\n",
       "      <td>4.0</td>\n",
       "    </tr>\n",
       "    <tr>\n",
       "      <th>family_status</th>\n",
       "      <td>21525</td>\n",
       "      <td>5</td>\n",
       "      <td>женат / замужем</td>\n",
       "      <td>12380</td>\n",
       "      <td>NaN</td>\n",
       "      <td>NaN</td>\n",
       "      <td>NaN</td>\n",
       "      <td>NaN</td>\n",
       "      <td>NaN</td>\n",
       "      <td>NaN</td>\n",
       "      <td>NaN</td>\n",
       "    </tr>\n",
       "    <tr>\n",
       "      <th>family_status_id</th>\n",
       "      <td>21525.0</td>\n",
       "      <td>NaN</td>\n",
       "      <td>NaN</td>\n",
       "      <td>NaN</td>\n",
       "      <td>0.972544</td>\n",
       "      <td>1.420324</td>\n",
       "      <td>0.0</td>\n",
       "      <td>0.0</td>\n",
       "      <td>0.0</td>\n",
       "      <td>1.0</td>\n",
       "      <td>4.0</td>\n",
       "    </tr>\n",
       "    <tr>\n",
       "      <th>gender</th>\n",
       "      <td>21525</td>\n",
       "      <td>3</td>\n",
       "      <td>F</td>\n",
       "      <td>14236</td>\n",
       "      <td>NaN</td>\n",
       "      <td>NaN</td>\n",
       "      <td>NaN</td>\n",
       "      <td>NaN</td>\n",
       "      <td>NaN</td>\n",
       "      <td>NaN</td>\n",
       "      <td>NaN</td>\n",
       "    </tr>\n",
       "    <tr>\n",
       "      <th>income_type</th>\n",
       "      <td>21525</td>\n",
       "      <td>8</td>\n",
       "      <td>сотрудник</td>\n",
       "      <td>11119</td>\n",
       "      <td>NaN</td>\n",
       "      <td>NaN</td>\n",
       "      <td>NaN</td>\n",
       "      <td>NaN</td>\n",
       "      <td>NaN</td>\n",
       "      <td>NaN</td>\n",
       "      <td>NaN</td>\n",
       "    </tr>\n",
       "    <tr>\n",
       "      <th>debt</th>\n",
       "      <td>21525.0</td>\n",
       "      <td>NaN</td>\n",
       "      <td>NaN</td>\n",
       "      <td>NaN</td>\n",
       "      <td>0.080883</td>\n",
       "      <td>0.272661</td>\n",
       "      <td>0.0</td>\n",
       "      <td>0.0</td>\n",
       "      <td>0.0</td>\n",
       "      <td>0.0</td>\n",
       "      <td>1.0</td>\n",
       "    </tr>\n",
       "    <tr>\n",
       "      <th>total_income</th>\n",
       "      <td>19351.0</td>\n",
       "      <td>NaN</td>\n",
       "      <td>NaN</td>\n",
       "      <td>NaN</td>\n",
       "      <td>167422.302208</td>\n",
       "      <td>102971.566448</td>\n",
       "      <td>20667.263793</td>\n",
       "      <td>103053.152913</td>\n",
       "      <td>145017.937533</td>\n",
       "      <td>203435.067663</td>\n",
       "      <td>2265604.028723</td>\n",
       "    </tr>\n",
       "    <tr>\n",
       "      <th>purpose</th>\n",
       "      <td>21525</td>\n",
       "      <td>38</td>\n",
       "      <td>свадьба</td>\n",
       "      <td>797</td>\n",
       "      <td>NaN</td>\n",
       "      <td>NaN</td>\n",
       "      <td>NaN</td>\n",
       "      <td>NaN</td>\n",
       "      <td>NaN</td>\n",
       "      <td>NaN</td>\n",
       "      <td>NaN</td>\n",
       "    </tr>\n",
       "  </tbody>\n",
       "</table>\n",
       "</div>"
      ],
      "text/plain": [
       "                    count unique              top   freq           mean  \\\n",
       "children          21525.0    NaN              NaN    NaN       0.538908   \n",
       "days_employed     19351.0    NaN              NaN    NaN   63046.497661   \n",
       "dob_years         21525.0    NaN              NaN    NaN       43.29338   \n",
       "education           21525     15          среднее  13750            NaN   \n",
       "education_id      21525.0    NaN              NaN    NaN       0.817236   \n",
       "family_status       21525      5  женат / замужем  12380            NaN   \n",
       "family_status_id  21525.0    NaN              NaN    NaN       0.972544   \n",
       "gender              21525      3                F  14236            NaN   \n",
       "income_type         21525      8        сотрудник  11119            NaN   \n",
       "debt              21525.0    NaN              NaN    NaN       0.080883   \n",
       "total_income      19351.0    NaN              NaN    NaN  167422.302208   \n",
       "purpose             21525     38          свадьба    797            NaN   \n",
       "\n",
       "                            std           min            25%            50%  \\\n",
       "children               1.381587          -1.0            0.0            0.0   \n",
       "days_employed     140827.311974 -18388.949901   -2747.423625   -1203.369529   \n",
       "dob_years             12.574584           0.0           33.0           42.0   \n",
       "education                   NaN           NaN            NaN            NaN   \n",
       "education_id           0.548138           0.0            1.0            1.0   \n",
       "family_status               NaN           NaN            NaN            NaN   \n",
       "family_status_id       1.420324           0.0            0.0            0.0   \n",
       "gender                      NaN           NaN            NaN            NaN   \n",
       "income_type                 NaN           NaN            NaN            NaN   \n",
       "debt                   0.272661           0.0            0.0            0.0   \n",
       "total_income      102971.566448  20667.263793  103053.152913  145017.937533   \n",
       "purpose                     NaN           NaN            NaN            NaN   \n",
       "\n",
       "                            75%             max  \n",
       "children                    1.0            20.0  \n",
       "days_employed       -291.095954   401755.400475  \n",
       "dob_years                  53.0            75.0  \n",
       "education                   NaN             NaN  \n",
       "education_id                1.0             4.0  \n",
       "family_status               NaN             NaN  \n",
       "family_status_id            1.0             4.0  \n",
       "gender                      NaN             NaN  \n",
       "income_type                 NaN             NaN  \n",
       "debt                        0.0             1.0  \n",
       "total_income      203435.067663  2265604.028723  \n",
       "purpose                     NaN             NaN  "
      ]
     },
     "execution_count": 3,
     "metadata": {},
     "output_type": "execute_result"
    }
   ],
   "source": [
    "display(data.info())\n",
    "data.describe(include='all').T"
   ]
  },
  {
   "cell_type": "markdown",
   "id": "333ec665",
   "metadata": {
    "deletable": false,
    "id": "333ec665"
   },
   "source": [
    "## Предобработка данных <a id=\"preprocessing\"></a>"
   ]
  },
  {
   "cell_type": "markdown",
   "id": "02d92d53",
   "metadata": {
    "deletable": false,
    "id": "02d92d53"
   },
   "source": [
    "### Обработка пропусков <a id=\"null\"></a>"
   ]
  },
  {
   "cell_type": "markdown",
   "id": "cd84967c",
   "metadata": {
    "deletable": false,
    "id": "cd84967c"
   },
   "source": [
    "Выведем количество пропущенных значений для каждого столбца."
   ]
  },
  {
   "cell_type": "code",
   "execution_count": 4,
   "id": "7f9b2309",
   "metadata": {
    "deletable": false,
    "id": "7f9b2309",
    "outputId": "81f4d817-781c-465c-ed15-91ce4446810d"
   },
   "outputs": [
    {
     "data": {
      "text/plain": [
       "children               0\n",
       "days_employed       2174\n",
       "dob_years              0\n",
       "education              0\n",
       "education_id           0\n",
       "family_status          0\n",
       "family_status_id       0\n",
       "gender                 0\n",
       "income_type            0\n",
       "debt                   0\n",
       "total_income        2174\n",
       "purpose                0\n",
       "dtype: int64"
      ]
     },
     "execution_count": 4,
     "metadata": {},
     "output_type": "execute_result"
    }
   ],
   "source": [
    "data.isna().sum()"
   ]
  },
  {
   "cell_type": "markdown",
   "id": "db86e27b",
   "metadata": {
    "deletable": false,
    "id": "db86e27b"
   },
   "source": [
    "В двух столбцах есть пропущенные значения:\n",
    "- `days_employed` - пропуски в этом столбце обработаем позже.\n",
    "- `total_income` - хранит данные о доходах. На сумму дохода сильнее всего влияет тип занятости, поэтому заполнить пропуски в этом столбце можно медианным значением по каждому типу из столбца `income_type`. Например, у человека с типом занятости `сотрудник` пропуск в столбце `total_income` может быть заполнен медианным доходом среди всех записей с тем же типом.\n",
    "\n",
    "Заполним пропуски в данных о доходах по способу, описанному выше."
   ]
  },
  {
   "cell_type": "code",
   "execution_count": 5,
   "id": "42006a93",
   "metadata": {
    "deletable": false,
    "id": "42006a93"
   },
   "outputs": [],
   "source": [
    "for t in data['income_type'].unique():\n",
    "    data.loc[\n",
    "        (data['income_type'] == t) & (data['total_income'].isna()), 'total_income'\n",
    "    ] = data.loc[(data['income_type'] == t), 'total_income'].median()"
   ]
  },
  {
   "cell_type": "markdown",
   "id": "89da5ece",
   "metadata": {
    "deletable": false,
    "id": "89da5ece"
   },
   "source": [
    "### Обработка аномальных значений  <a id=\"anomalies\"></a>"
   ]
  },
  {
   "cell_type": "markdown",
   "id": "880a0fbf",
   "metadata": {},
   "source": [
    "#### Обработка аномалий в трудовом стаже"
   ]
  },
  {
   "cell_type": "markdown",
   "id": "57964554",
   "metadata": {
    "deletable": false,
    "id": "57964554"
   },
   "source": [
    "При открытии датасета были заметны значения с отрицательным количеством дней трудового стажа в столбце `days_employed`. Заменим их положительными значениями с помощью модуля."
   ]
  },
  {
   "cell_type": "code",
   "execution_count": 6,
   "id": "f6f055bf",
   "metadata": {
    "deletable": false,
    "id": "f6f055bf"
   },
   "outputs": [],
   "source": [
    "data['days_employed'] = data['days_employed'].abs()"
   ]
  },
  {
   "cell_type": "markdown",
   "id": "6107dd2f",
   "metadata": {
    "deletable": false,
    "id": "6107dd2f"
   },
   "source": [
    "Для каждого типа занятости выведем медианное значение трудового стажа `days_employed` в днях."
   ]
  },
  {
   "cell_type": "code",
   "execution_count": 7,
   "id": "85a5faf6",
   "metadata": {
    "deletable": false,
    "id": "85a5faf6",
    "outputId": "801ef80e-522b-4668-f34e-565af7432bcf"
   },
   "outputs": [
    {
     "data": {
      "text/plain": [
       "income_type\n",
       "безработный        366413.652744\n",
       "в декрете            3296.759962\n",
       "госслужащий          2689.368353\n",
       "компаньон            1547.382223\n",
       "пенсионер          365213.306266\n",
       "предприниматель       520.848083\n",
       "сотрудник            1574.202821\n",
       "студент               578.751554\n",
       "Name: days_employed, dtype: float64"
      ]
     },
     "execution_count": 7,
     "metadata": {},
     "output_type": "execute_result"
    }
   ],
   "source": [
    "data.groupby('income_type')['days_employed'].agg('median')"
   ]
  },
  {
   "cell_type": "markdown",
   "id": "38d1a030",
   "metadata": {
    "deletable": false,
    "id": "38d1a030"
   },
   "source": [
    "У двух типов (безработные и пенсионеры) аномально большие значения. Исправить такие значения сложно, поэтому оставим их как есть. Тем более этот столбец не понадобится далее для исследования."
   ]
  },
  {
   "cell_type": "markdown",
   "id": "abed9ae0",
   "metadata": {},
   "source": [
    "#### Обработка аномалий в количестве детей"
   ]
  },
  {
   "cell_type": "markdown",
   "id": "d8a9f147",
   "metadata": {
    "deletable": false,
    "id": "d8a9f147"
   },
   "source": [
    "Выведем список уникальных значений количества детей."
   ]
  },
  {
   "cell_type": "code",
   "execution_count": 8,
   "id": "ef5056eb",
   "metadata": {
    "deletable": false,
    "id": "ef5056eb",
    "outputId": "6975b15c-7f95-4697-d16d-a0c79b657b03"
   },
   "outputs": [
    {
     "data": {
      "text/plain": [
       "array([ 1,  0,  3,  2, -1,  4, 20,  5])"
      ]
     },
     "execution_count": 8,
     "metadata": {},
     "output_type": "execute_result"
    }
   ],
   "source": [
    "data['children'].unique()"
   ]
  },
  {
   "cell_type": "markdown",
   "id": "40b9ebf2",
   "metadata": {
    "deletable": false,
    "id": "40b9ebf2"
   },
   "source": [
    "В столбце с количеством детей есть два аномальных значения (-1 и 20). Удалим строки, в которых встречаются такие аномальные значения из датафрейма."
   ]
  },
  {
   "cell_type": "code",
   "execution_count": 9,
   "id": "3ff9801d",
   "metadata": {
    "deletable": false,
    "id": "3ff9801d"
   },
   "outputs": [],
   "source": [
    "data = data[(data['children'] != -1) & (data['children'] != 20)]"
   ]
  },
  {
   "cell_type": "markdown",
   "id": "75440b63",
   "metadata": {
    "deletable": false,
    "id": "75440b63"
   },
   "source": [
    "### Обработка пропусков в трудовом стаже <a id=\"null_days_employeed\"></a>"
   ]
  },
  {
   "cell_type": "markdown",
   "id": "f4ea573f",
   "metadata": {
    "deletable": false,
    "id": "f4ea573f"
   },
   "source": [
    "Заполним пропуски в столбце `days_employed` медианными значениями по каждого типа занятости `income_type`."
   ]
  },
  {
   "cell_type": "code",
   "execution_count": 10,
   "id": "af6b1a7e",
   "metadata": {
    "deletable": false,
    "id": "af6b1a7e"
   },
   "outputs": [],
   "source": [
    "for t in data['income_type'].unique():\n",
    "    data.loc[\n",
    "        (data['income_type'] == t) & (data['days_employed'].isna()), 'days_employed'\n",
    "    ] = data.loc[(data['income_type'] == t), 'days_employed'].median()"
   ]
  },
  {
   "cell_type": "markdown",
   "id": "2753f40d",
   "metadata": {
    "deletable": false,
    "id": "2753f40d"
   },
   "source": [
    "Проверим, что все пропуски заполнены. Выведем количество пустых значений в столбцах датасета."
   ]
  },
  {
   "cell_type": "code",
   "execution_count": 11,
   "id": "55f78bc2",
   "metadata": {
    "deletable": false,
    "id": "55f78bc2",
    "outputId": "8da1e4e1-358e-4e87-98c9-f261bce0a7b2"
   },
   "outputs": [
    {
     "data": {
      "text/plain": [
       "children            0\n",
       "days_employed       0\n",
       "dob_years           0\n",
       "education           0\n",
       "education_id        0\n",
       "family_status       0\n",
       "family_status_id    0\n",
       "gender              0\n",
       "income_type         0\n",
       "debt                0\n",
       "total_income        0\n",
       "purpose             0\n",
       "dtype: int64"
      ]
     },
     "execution_count": 11,
     "metadata": {},
     "output_type": "execute_result"
    }
   ],
   "source": [
    "data.isna().sum()"
   ]
  },
  {
   "cell_type": "markdown",
   "id": "ddc81e43",
   "metadata": {
    "deletable": false,
    "id": "ddc81e43"
   },
   "source": [
    "### Изменение типов данных <a id=\"types\"></a>"
   ]
  },
  {
   "cell_type": "markdown",
   "id": "42d19d24",
   "metadata": {
    "deletable": false,
    "id": "42d19d24"
   },
   "source": [
    "Заменим вещественный тип данных в столбце `total_income` на целочисленный `int`."
   ]
  },
  {
   "cell_type": "code",
   "execution_count": 12,
   "id": "920b65ad",
   "metadata": {
    "deletable": false,
    "id": "920b65ad"
   },
   "outputs": [],
   "source": [
    "data['total_income'] = data['total_income'].astype(int)"
   ]
  },
  {
   "cell_type": "markdown",
   "id": "80c420ba",
   "metadata": {
    "deletable": false,
    "id": "80c420ba"
   },
   "source": [
    "### Обработка дубликатов <a id=\"duplicates\"></a>"
   ]
  },
  {
   "cell_type": "markdown",
   "id": "9a2372dc",
   "metadata": {},
   "source": [
    "#### Обработка явных дубликатов"
   ]
  },
  {
   "cell_type": "markdown",
   "id": "dc587695",
   "metadata": {
    "deletable": false,
    "id": "dc587695"
   },
   "source": [
    "Выведем на экран количество строк-дубликатов в данных. "
   ]
  },
  {
   "cell_type": "code",
   "execution_count": 13,
   "id": "3ee445e4",
   "metadata": {
    "deletable": false,
    "id": "3ee445e4",
    "outputId": "9684deba-1934-42d1-99e1-cda61740f822",
    "scrolled": true
   },
   "outputs": [
    {
     "data": {
      "text/plain": [
       "54"
      ]
     },
     "execution_count": 13,
     "metadata": {},
     "output_type": "execute_result"
    }
   ],
   "source": [
    "data.duplicated().sum()"
   ]
  },
  {
   "cell_type": "markdown",
   "id": "bec806fd",
   "metadata": {},
   "source": [
    "В данных присутствует 54 явных дубликата. Удалим их из датасета."
   ]
  },
  {
   "cell_type": "code",
   "execution_count": 14,
   "id": "8575fe05",
   "metadata": {
    "deletable": false,
    "id": "8575fe05"
   },
   "outputs": [],
   "source": [
    "data = data.drop_duplicates()"
   ]
  },
  {
   "cell_type": "markdown",
   "id": "e2cab7a4",
   "metadata": {},
   "source": [
    "#### Обработка неявных дубликатов"
   ]
  },
  {
   "cell_type": "markdown",
   "id": "9771a76c",
   "metadata": {
    "deletable": false,
    "id": "9771a76c"
   },
   "source": [
    "При первичном открытии данных были заметны одинаковые значения образования, записанные разным регистром. Приведем весь столбец `education` к нижнему регистру."
   ]
  },
  {
   "cell_type": "code",
   "execution_count": 15,
   "id": "a9f8e2bf",
   "metadata": {
    "deletable": false,
    "id": "a9f8e2bf"
   },
   "outputs": [],
   "source": [
    "data['education'] = data['education'].str.lower()"
   ]
  },
  {
   "cell_type": "markdown",
   "id": "9904cf55",
   "metadata": {
    "deletable": false,
    "id": "9904cf55"
   },
   "source": [
    "### Категоризация данных <a id=\"categorization\"></a>"
   ]
  },
  {
   "cell_type": "markdown",
   "id": "c18e5511",
   "metadata": {},
   "source": [
    "#### Добавление категорий дохода"
   ]
  },
  {
   "cell_type": "markdown",
   "id": "72fcc8a2",
   "metadata": {
    "deletable": false,
    "id": "72fcc8a2"
   },
   "source": [
    "Выделим в датафрейме следующие категории дохода:\n",
    "- `E` - доход 0–30000;\n",
    "- `D` - 30001–50000;\n",
    "- `C` - 50001–200000;\n",
    "- `B` - 200001–1000000;\n",
    "- `A` - 1000001 и выше."
   ]
  },
  {
   "cell_type": "code",
   "execution_count": 16,
   "id": "e1771346",
   "metadata": {
    "deletable": false,
    "id": "e1771346"
   },
   "outputs": [],
   "source": [
    "def categorize_income(income):\n",
    "    '''\n",
    "    функция принимает: значение дохода клиента\n",
    "    функция возвращает: категорию дохода\n",
    "    '''\n",
    "    # конструкция try-except использована на случай отличающихся значений от входящих в категории\n",
    "    try:\n",
    "        if 0 <= income <= 30000:\n",
    "            return 'E'\n",
    "        elif 30001 <= income <= 50000:\n",
    "            return 'D'\n",
    "        elif 50001 <= income <= 200000:\n",
    "            return 'C'\n",
    "        elif 200001 <= income <= 1000000:\n",
    "            return 'B'\n",
    "        elif income >= 1000001:\n",
    "            return 'A'\n",
    "    except:\n",
    "        pass\n",
    "    \n",
    "# добавляем столбец с категориями дохода\n",
    "data['total_income_category'] = data['total_income'].apply(categorize_income)"
   ]
  },
  {
   "cell_type": "markdown",
   "id": "009bde16",
   "metadata": {
    "deletable": false,
    "id": "d5f3586d"
   },
   "source": [
    "#### Добавление категории целей кредита"
   ]
  },
  {
   "cell_type": "markdown",
   "id": "dde49b5c",
   "metadata": {
    "deletable": false,
    "id": "dde49b5c"
   },
   "source": [
    "Выведем список уникальных целей взятия кредита из столбца `purpose`."
   ]
  },
  {
   "cell_type": "code",
   "execution_count": 17,
   "id": "f67ce9b3",
   "metadata": {
    "deletable": false,
    "id": "f67ce9b3",
    "outputId": "673c12d9-7d7e-4ae0-9812-c622c89dd244"
   },
   "outputs": [
    {
     "data": {
      "text/plain": [
       "array(['покупка жилья', 'приобретение автомобиля',\n",
       "       'дополнительное образование', 'сыграть свадьбу',\n",
       "       'операции с жильем', 'образование', 'на проведение свадьбы',\n",
       "       'покупка жилья для семьи', 'покупка недвижимости',\n",
       "       'покупка коммерческой недвижимости', 'покупка жилой недвижимости',\n",
       "       'строительство собственной недвижимости', 'недвижимость',\n",
       "       'строительство недвижимости', 'на покупку подержанного автомобиля',\n",
       "       'на покупку своего автомобиля',\n",
       "       'операции с коммерческой недвижимостью',\n",
       "       'строительство жилой недвижимости', 'жилье',\n",
       "       'операции со своей недвижимостью', 'автомобили',\n",
       "       'заняться образованием', 'сделка с подержанным автомобилем',\n",
       "       'получение образования', 'автомобиль', 'свадьба',\n",
       "       'получение дополнительного образования', 'покупка своего жилья',\n",
       "       'операции с недвижимостью', 'получение высшего образования',\n",
       "       'свой автомобиль', 'сделка с автомобилем',\n",
       "       'профильное образование', 'высшее образование',\n",
       "       'покупка жилья для сдачи', 'на покупку автомобиля', 'ремонт жилью',\n",
       "       'заняться высшим образованием'], dtype=object)"
      ]
     },
     "execution_count": 17,
     "metadata": {},
     "output_type": "execute_result"
    }
   ],
   "source": [
    "data['purpose'].unique()"
   ]
  },
  {
   "cell_type": "markdown",
   "id": "85d0aef0",
   "metadata": {
    "deletable": false,
    "id": "85d0aef0"
   },
   "source": [
    "Можно выделить следующие категории целей кредита:\n",
    "- `операции с автомобилем`,\n",
    "- `операции с недвижимостью`,\n",
    "- `проведение свадьбы`,\n",
    "- `получение образования`.\n",
    "\n",
    "Разделим все цели кредита по категориям, описанным выше."
   ]
  },
  {
   "cell_type": "code",
   "execution_count": 18,
   "id": "e149fab4",
   "metadata": {
    "deletable": false,
    "id": "e149fab4"
   },
   "outputs": [],
   "source": [
    "def categorize_purpose(purpose):\n",
    "    '''\n",
    "    функция принимает: цель кредита из датасета\n",
    "    функция возвращает: категорию цели цредита\n",
    "    '''\n",
    "    try:\n",
    "        # если текст цели содержит определенные части слов, то возвращаем категорию, связанную с ними \n",
    "        if 'автом' in purpose:\n",
    "            return 'операции с автомобилем'\n",
    "        elif 'жил' in purpose or 'недвиж' in purpose:\n",
    "            return 'операции с недвижимостью'\n",
    "        elif 'свад' in purpose:\n",
    "            return 'проведение свадьбы'\n",
    "        elif 'образов' in purpose:\n",
    "            return 'получение образования'\n",
    "    except:\n",
    "        # если в тексте цели нет ни одной части слов, свзанной с категориями, то возаращаем соответствующее значение\n",
    "        return 'нет категории'\n",
    "    \n",
    "# добавляем столбец с категориями целей кредита\n",
    "data['purpose_category'] = data['purpose'].apply(categorize_purpose)"
   ]
  },
  {
   "cell_type": "markdown",
   "id": "09b242bf",
   "metadata": {
    "id": "09b242bf"
   },
   "source": [
    "## Анализ данных <a id=\"analys\"></a>"
   ]
  },
  {
   "cell_type": "markdown",
   "id": "706684c6",
   "metadata": {},
   "source": [
    "Для начала проверим, какие значения записаны в столбце статуса возврата кредита."
   ]
  },
  {
   "cell_type": "code",
   "execution_count": 19,
   "id": "ada55a2b",
   "metadata": {},
   "outputs": [
    {
     "data": {
      "text/plain": [
       "array([0, 1])"
      ]
     },
     "execution_count": 19,
     "metadata": {},
     "output_type": "execute_result"
    }
   ],
   "source": [
    "data.debt.unique()"
   ]
  },
  {
   "cell_type": "markdown",
   "id": "c095b5c0",
   "metadata": {},
   "source": [
    "Аномалий нет. В строках значения только `0` и `1`, поэтому с данными можно работать."
   ]
  },
  {
   "cell_type": "markdown",
   "id": "34f22b95",
   "metadata": {},
   "source": [
    "### Анализ зависимости возврата кредита от количества детей <a id=\"children\"></a>"
   ]
  },
  {
   "cell_type": "markdown",
   "id": "c0cd2b27",
   "metadata": {},
   "source": [
    "Cоздадим отдельную таблицу, в которой посчитаем:\n",
    "1. Количество клиентов с разным количеством детей.\n",
    "2. Количество имеющих задолженности среди них. "
   ]
  },
  {
   "cell_type": "code",
   "execution_count": 20,
   "id": "2cacfc4a",
   "metadata": {
    "id": "2cacfc4a"
   },
   "outputs": [
    {
     "data": {
      "text/html": [
       "<style type=\"text/css\">\n",
       "#T_991d5_row0_col0, #T_991d5_row4_col1, #T_991d5_row4_col2, #T_991d5_row5_col1, #T_991d5_row5_col2 {\n",
       "  background-color: #f7fcfd;\n",
       "  color: #000000;\n",
       "}\n",
       "#T_991d5_row0_col1, #T_991d5_row0_col2, #T_991d5_row5_col0 {\n",
       "  background-color: #00441b;\n",
       "  color: #f1f1f1;\n",
       "}\n",
       "#T_991d5_row1_col0 {\n",
       "  background-color: #d6f0ee;\n",
       "  color: #000000;\n",
       "}\n",
       "#T_991d5_row1_col1 {\n",
       "  background-color: #a7ddd1;\n",
       "  color: #000000;\n",
       "}\n",
       "#T_991d5_row1_col2 {\n",
       "  background-color: #88d1bd;\n",
       "  color: #000000;\n",
       "}\n",
       "#T_991d5_row2_col0 {\n",
       "  background-color: #8fd4c2;\n",
       "  color: #000000;\n",
       "}\n",
       "#T_991d5_row2_col1 {\n",
       "  background-color: #e1f4f6;\n",
       "  color: #000000;\n",
       "}\n",
       "#T_991d5_row2_col2 {\n",
       "  background-color: #daf1f1;\n",
       "  color: #000000;\n",
       "}\n",
       "#T_991d5_row3_col0 {\n",
       "  background-color: #48b27f;\n",
       "  color: #f1f1f1;\n",
       "}\n",
       "#T_991d5_row3_col1, #T_991d5_row3_col2 {\n",
       "  background-color: #f4fbfc;\n",
       "  color: #000000;\n",
       "}\n",
       "#T_991d5_row4_col0 {\n",
       "  background-color: #157f3b;\n",
       "  color: #f1f1f1;\n",
       "}\n",
       "</style>\n",
       "<table id=\"T_991d5\">\n",
       "  <thead>\n",
       "    <tr>\n",
       "      <th class=\"blank level0\" >&nbsp;</th>\n",
       "      <th id=\"T_991d5_level0_col0\" class=\"col_heading level0 col0\" >children</th>\n",
       "      <th id=\"T_991d5_level0_col1\" class=\"col_heading level0 col1\" >people_count</th>\n",
       "      <th id=\"T_991d5_level0_col2\" class=\"col_heading level0 col2\" >debt_count</th>\n",
       "    </tr>\n",
       "  </thead>\n",
       "  <tbody>\n",
       "    <tr>\n",
       "      <th id=\"T_991d5_level0_row0\" class=\"row_heading level0 row0\" >0</th>\n",
       "      <td id=\"T_991d5_row0_col0\" class=\"data row0 col0\" >0</td>\n",
       "      <td id=\"T_991d5_row0_col1\" class=\"data row0 col1\" >14107</td>\n",
       "      <td id=\"T_991d5_row0_col2\" class=\"data row0 col2\" >1063</td>\n",
       "    </tr>\n",
       "    <tr>\n",
       "      <th id=\"T_991d5_level0_row1\" class=\"row_heading level0 row1\" >1</th>\n",
       "      <td id=\"T_991d5_row1_col0\" class=\"data row1 col0\" >1</td>\n",
       "      <td id=\"T_991d5_row1_col1\" class=\"data row1 col1\" >4809</td>\n",
       "      <td id=\"T_991d5_row1_col2\" class=\"data row1 col2\" >444</td>\n",
       "    </tr>\n",
       "    <tr>\n",
       "      <th id=\"T_991d5_level0_row2\" class=\"row_heading level0 row2\" >2</th>\n",
       "      <td id=\"T_991d5_row2_col0\" class=\"data row2 col0\" >2</td>\n",
       "      <td id=\"T_991d5_row2_col1\" class=\"data row2 col1\" >2052</td>\n",
       "      <td id=\"T_991d5_row2_col2\" class=\"data row2 col2\" >194</td>\n",
       "    </tr>\n",
       "    <tr>\n",
       "      <th id=\"T_991d5_level0_row3\" class=\"row_heading level0 row3\" >3</th>\n",
       "      <td id=\"T_991d5_row3_col0\" class=\"data row3 col0\" >3</td>\n",
       "      <td id=\"T_991d5_row3_col1\" class=\"data row3 col1\" >330</td>\n",
       "      <td id=\"T_991d5_row3_col2\" class=\"data row3 col2\" >27</td>\n",
       "    </tr>\n",
       "    <tr>\n",
       "      <th id=\"T_991d5_level0_row4\" class=\"row_heading level0 row4\" >4</th>\n",
       "      <td id=\"T_991d5_row4_col0\" class=\"data row4 col0\" >4</td>\n",
       "      <td id=\"T_991d5_row4_col1\" class=\"data row4 col1\" >41</td>\n",
       "      <td id=\"T_991d5_row4_col2\" class=\"data row4 col2\" >4</td>\n",
       "    </tr>\n",
       "    <tr>\n",
       "      <th id=\"T_991d5_level0_row5\" class=\"row_heading level0 row5\" >5</th>\n",
       "      <td id=\"T_991d5_row5_col0\" class=\"data row5 col0\" >5</td>\n",
       "      <td id=\"T_991d5_row5_col1\" class=\"data row5 col1\" >9</td>\n",
       "      <td id=\"T_991d5_row5_col2\" class=\"data row5 col2\" >0</td>\n",
       "    </tr>\n",
       "  </tbody>\n",
       "</table>\n"
      ],
      "text/plain": [
       "<pandas.io.formats.style.Styler at 0x7faea8a2c970>"
      ]
     },
     "execution_count": 20,
     "metadata": {},
     "output_type": "execute_result"
    }
   ],
   "source": [
    "def get_table_grouped(data, column):\n",
    "    '''\n",
    "    функция принимает: датасет и название колонки, по которой группируем клиентов и считаем должников\n",
    "    функция возвращает: таблица с количеством клиентов каждой категории и количество должников среди них\n",
    "    '''\n",
    "    # переименуем столбцы, чтобы было удобнее понимать их смысл\n",
    "    # сбросим индексы, т.к. по умолчанию индексами будет столбец со значениями колонки-признака\n",
    "    return data.groupby(column).agg({\n",
    "        column: 'count', \n",
    "        'debt': 'sum'\n",
    "    }).rename(columns={\n",
    "        column: 'people_count', \n",
    "        'debt': 'debt_count'}).reset_index()\n",
    "\n",
    "# получаем таблицу\n",
    "children_grouped = get_table_grouped(data, 'children')\n",
    "\n",
    "# выведем таблицу на экран\n",
    "# добавляем заливку цветом\n",
    "children_grouped.style.background_gradient(cmap='BuGn')"
   ]
  },
  {
   "cell_type": "markdown",
   "id": "5e122767",
   "metadata": {},
   "source": [
    "Судя по таблице, в некоторых категориях значительно мало клиентов. Например, клиентов с 5 детьми всего 9. Посчитаем процент клиентов в каждой категории, чтобы понять, стоит ли доверять данной выборке и можно ли сделать по ней точные выводы."
   ]
  },
  {
   "cell_type": "code",
   "execution_count": 21,
   "id": "1c6f0200",
   "metadata": {},
   "outputs": [
    {
     "data": {
      "text/html": [
       "<style type=\"text/css\">\n",
       "#T_c3885_row0_col0, #T_c3885_row4_col1, #T_c3885_row4_col2, #T_c3885_row4_col3, #T_c3885_row5_col1, #T_c3885_row5_col2, #T_c3885_row5_col3 {\n",
       "  background-color: #f7fcfd;\n",
       "  color: #000000;\n",
       "}\n",
       "#T_c3885_row0_col1, #T_c3885_row0_col2, #T_c3885_row0_col3, #T_c3885_row5_col0 {\n",
       "  background-color: #00441b;\n",
       "  color: #f1f1f1;\n",
       "}\n",
       "#T_c3885_row1_col0 {\n",
       "  background-color: #d6f0ee;\n",
       "  color: #000000;\n",
       "}\n",
       "#T_c3885_row1_col1, #T_c3885_row1_col3 {\n",
       "  background-color: #a7ddd1;\n",
       "  color: #000000;\n",
       "}\n",
       "#T_c3885_row1_col2 {\n",
       "  background-color: #88d1bd;\n",
       "  color: #000000;\n",
       "}\n",
       "#T_c3885_row2_col0 {\n",
       "  background-color: #8fd4c2;\n",
       "  color: #000000;\n",
       "}\n",
       "#T_c3885_row2_col1, #T_c3885_row2_col3 {\n",
       "  background-color: #e1f4f6;\n",
       "  color: #000000;\n",
       "}\n",
       "#T_c3885_row2_col2 {\n",
       "  background-color: #daf1f1;\n",
       "  color: #000000;\n",
       "}\n",
       "#T_c3885_row3_col0 {\n",
       "  background-color: #48b27f;\n",
       "  color: #f1f1f1;\n",
       "}\n",
       "#T_c3885_row3_col1, #T_c3885_row3_col2, #T_c3885_row3_col3 {\n",
       "  background-color: #f4fbfc;\n",
       "  color: #000000;\n",
       "}\n",
       "#T_c3885_row4_col0 {\n",
       "  background-color: #157f3b;\n",
       "  color: #f1f1f1;\n",
       "}\n",
       "</style>\n",
       "<table id=\"T_c3885\">\n",
       "  <thead>\n",
       "    <tr>\n",
       "      <th class=\"blank level0\" >&nbsp;</th>\n",
       "      <th id=\"T_c3885_level0_col0\" class=\"col_heading level0 col0\" >children</th>\n",
       "      <th id=\"T_c3885_level0_col1\" class=\"col_heading level0 col1\" >people_count</th>\n",
       "      <th id=\"T_c3885_level0_col2\" class=\"col_heading level0 col2\" >debt_count</th>\n",
       "      <th id=\"T_c3885_level0_col3\" class=\"col_heading level0 col3\" >people_percent</th>\n",
       "    </tr>\n",
       "  </thead>\n",
       "  <tbody>\n",
       "    <tr>\n",
       "      <th id=\"T_c3885_level0_row0\" class=\"row_heading level0 row0\" >0</th>\n",
       "      <td id=\"T_c3885_row0_col0\" class=\"data row0 col0\" >0</td>\n",
       "      <td id=\"T_c3885_row0_col1\" class=\"data row0 col1\" >14107</td>\n",
       "      <td id=\"T_c3885_row0_col2\" class=\"data row0 col2\" >1063</td>\n",
       "      <td id=\"T_c3885_row0_col3\" class=\"data row0 col3\" >66.081132</td>\n",
       "    </tr>\n",
       "    <tr>\n",
       "      <th id=\"T_c3885_level0_row1\" class=\"row_heading level0 row1\" >1</th>\n",
       "      <td id=\"T_c3885_row1_col0\" class=\"data row1 col0\" >1</td>\n",
       "      <td id=\"T_c3885_row1_col1\" class=\"data row1 col1\" >4809</td>\n",
       "      <td id=\"T_c3885_row1_col2\" class=\"data row1 col2\" >444</td>\n",
       "      <td id=\"T_c3885_row1_col3\" class=\"data row1 col3\" >22.526700</td>\n",
       "    </tr>\n",
       "    <tr>\n",
       "      <th id=\"T_c3885_level0_row2\" class=\"row_heading level0 row2\" >2</th>\n",
       "      <td id=\"T_c3885_row2_col0\" class=\"data row2 col0\" >2</td>\n",
       "      <td id=\"T_c3885_row2_col1\" class=\"data row2 col1\" >2052</td>\n",
       "      <td id=\"T_c3885_row2_col2\" class=\"data row2 col2\" >194</td>\n",
       "      <td id=\"T_c3885_row2_col3\" class=\"data row2 col3\" >9.612142</td>\n",
       "    </tr>\n",
       "    <tr>\n",
       "      <th id=\"T_c3885_level0_row3\" class=\"row_heading level0 row3\" >3</th>\n",
       "      <td id=\"T_c3885_row3_col0\" class=\"data row3 col0\" >3</td>\n",
       "      <td id=\"T_c3885_row3_col1\" class=\"data row3 col1\" >330</td>\n",
       "      <td id=\"T_c3885_row3_col2\" class=\"data row3 col2\" >27</td>\n",
       "      <td id=\"T_c3885_row3_col3\" class=\"data row3 col3\" >1.545812</td>\n",
       "    </tr>\n",
       "    <tr>\n",
       "      <th id=\"T_c3885_level0_row4\" class=\"row_heading level0 row4\" >4</th>\n",
       "      <td id=\"T_c3885_row4_col0\" class=\"data row4 col0\" >4</td>\n",
       "      <td id=\"T_c3885_row4_col1\" class=\"data row4 col1\" >41</td>\n",
       "      <td id=\"T_c3885_row4_col2\" class=\"data row4 col2\" >4</td>\n",
       "      <td id=\"T_c3885_row4_col3\" class=\"data row4 col3\" >0.192055</td>\n",
       "    </tr>\n",
       "    <tr>\n",
       "      <th id=\"T_c3885_level0_row5\" class=\"row_heading level0 row5\" >5</th>\n",
       "      <td id=\"T_c3885_row5_col0\" class=\"data row5 col0\" >5</td>\n",
       "      <td id=\"T_c3885_row5_col1\" class=\"data row5 col1\" >9</td>\n",
       "      <td id=\"T_c3885_row5_col2\" class=\"data row5 col2\" >0</td>\n",
       "      <td id=\"T_c3885_row5_col3\" class=\"data row5 col3\" >0.042159</td>\n",
       "    </tr>\n",
       "  </tbody>\n",
       "</table>\n"
      ],
      "text/plain": [
       "<pandas.io.formats.style.Styler at 0x7faeab08b190>"
      ]
     },
     "execution_count": 21,
     "metadata": {},
     "output_type": "execute_result"
    }
   ],
   "source": [
    "def get_people_percent(people_count):\n",
    "    '''\n",
    "    функция принимает: столбец с количеством клиентов в каждой категории\n",
    "    функция выводит: столбец с процентом клиентов в каждой категории, относительно общего количества\n",
    "    '''\n",
    "    return people_count / people_count.sum() * 100\n",
    "\n",
    "# добавим столбец с процентом клиентов в каждой группе, относительно всей выборки\n",
    "children_grouped['people_percent'] = get_people_percent(children_grouped['people_count'])\n",
    "\n",
    "# выведем таблицу на экран\n",
    "children_grouped.style.background_gradient(cmap='BuGn')"
   ]
  },
  {
   "cell_type": "markdown",
   "id": "439f18b9",
   "metadata": {},
   "source": [
    "Так как клиентов с 4 и 5 детьми меньше 1 процента, то можем объединить их с клиентами с 3 детьми."
   ]
  },
  {
   "cell_type": "code",
   "execution_count": 22,
   "id": "69e61b58",
   "metadata": {},
   "outputs": [],
   "source": [
    "# суммируем строки с категориями, где количество детей от 3 до 5\n",
    "children_grouped.loc[3] = children_grouped.loc[3:5].sum()\n",
    "# переименуем количество детей в суммированной строке\n",
    "children_grouped.loc[3, 'children'] = '3+'\n",
    "# удалим строки, где количество детей было 4 и 5\n",
    "children_grouped = children_grouped.drop([4,5])"
   ]
  },
  {
   "cell_type": "markdown",
   "id": "7e160801",
   "metadata": {},
   "source": [
    "Посчитаем процент клиентов, имеющих задолженности, в каждой группе. Построим столбчатую диаграмму, чтобы наглядно визуализировать процент должников."
   ]
  },
  {
   "cell_type": "code",
   "execution_count": 23,
   "id": "76a01dc2",
   "metadata": {
    "scrolled": false
   },
   "outputs": [
    {
     "data": {
      "image/png": "[encoded data removed]",
      "text/plain": [
       "<Figure size 432x288 with 1 Axes>"
      ]
     },
     "metadata": {
      "needs_background": "light"
     },
     "output_type": "display_data"
    }
   ],
   "source": [
    "def get_debt_percent(table_grouped):\n",
    "    '''\n",
    "    функция принимает: таблицу с количеством клиентов и должников в разных категориях\n",
    "    функция выводит: столбец с процентами должников в каждой категории\n",
    "    '''\n",
    "    return table_grouped['debt_count'] / table_grouped['people_count'] * 100\n",
    "\n",
    "# добавим столбец с процентом должников в каждой группе\n",
    "children_grouped['debt_percent'] = get_debt_percent(children_grouped)\n",
    "\n",
    "# генерируем график \n",
    "# строим в горизонтальной ориентации, чтобы было удобнее читать график\n",
    "ax = sns.barplot(x=children_grouped['debt_percent'], y=children_grouped['children'], orient='h');\n",
    "\n",
    "# добавляем подписи\n",
    "ax.set_title('Распределение долей должников с разным количеством детей')\n",
    "ax.set(xlabel='Процент клиентов с задолженностями', ylabel='Количество детей');"
   ]
  },
  {
   "cell_type": "markdown",
   "id": "3a6b99ec",
   "metadata": {
    "deletable": false,
    "id": "3a6b99ec"
   },
   "source": [
    "**Вывод:** \n",
    "- Лучше всего платят кредиты клиенты без детей. Среди них имели задолженности примерно 7.5% клиентов. \n",
    "- Среди клиентов с детьми лучше всего возвращают кредиты клиенты, у которых 3 детей и больше. Среди них задолженности были у примерно 8.2% клиентов.\n",
    "- Больше всего задолженностей имели клиенты с 1 и 2 детьми. Среди них задолженности были у 9.2% и 9.5% клиентов соответственно."
   ]
  },
  {
   "cell_type": "markdown",
   "id": "97be82ca",
   "metadata": {
    "id": "97be82ca"
   },
   "source": [
    "### Анализ зависимости возврата кредита от семейного положения <a id=\"family_status\"></a>"
   ]
  },
  {
   "cell_type": "markdown",
   "id": "c969f93b",
   "metadata": {},
   "source": [
    "Для начала проверим, какие значения семейного положения имеются в датасете."
   ]
  },
  {
   "cell_type": "code",
   "execution_count": 24,
   "id": "7f3a6a27",
   "metadata": {},
   "outputs": [
    {
     "data": {
      "text/plain": [
       "array(['женат / замужем', 'гражданский брак', 'вдовец / вдова',\n",
       "       'в разводе', 'Не женат / не замужем'], dtype=object)"
      ]
     },
     "execution_count": 24,
     "metadata": {},
     "output_type": "execute_result"
    }
   ],
   "source": [
    "data.family_status.unique()"
   ]
  },
  {
   "cell_type": "markdown",
   "id": "73435707",
   "metadata": {},
   "source": [
    "Аномальных значений нет, поэтому с данными можно работать.\n",
    "\n",
    "Cоздадим отдельную таблицу, в которой посчитаем:\n",
    "1. Количество клиентов в каждом статусе семейного положения.\n",
    "2. Количество имеющих задолженности среди них.\n",
    "3. Процент клиентов в каждой категории, относительно всей выборки."
   ]
  },
  {
   "cell_type": "code",
   "execution_count": 25,
   "id": "506af059",
   "metadata": {},
   "outputs": [
    {
     "data": {
      "text/html": [
       "<style type=\"text/css\">\n",
       "#T_8d75c_row0_col1, #T_8d75c_row0_col3 {\n",
       "  background-color: #def2f4;\n",
       "  color: #000000;\n",
       "}\n",
       "#T_8d75c_row0_col2 {\n",
       "  background-color: #cdece7;\n",
       "  color: #000000;\n",
       "}\n",
       "#T_8d75c_row1_col1, #T_8d75c_row1_col2, #T_8d75c_row1_col3 {\n",
       "  background-color: #f4fbfc;\n",
       "  color: #000000;\n",
       "}\n",
       "#T_8d75c_row2_col1, #T_8d75c_row2_col2, #T_8d75c_row2_col3 {\n",
       "  background-color: #f7fcfd;\n",
       "  color: #000000;\n",
       "}\n",
       "#T_8d75c_row3_col1, #T_8d75c_row3_col3 {\n",
       "  background-color: #bfe7de;\n",
       "  color: #000000;\n",
       "}\n",
       "#T_8d75c_row3_col2 {\n",
       "  background-color: #9ad8ca;\n",
       "  color: #000000;\n",
       "}\n",
       "#T_8d75c_row4_col1, #T_8d75c_row4_col2, #T_8d75c_row4_col3 {\n",
       "  background-color: #00441b;\n",
       "  color: #f1f1f1;\n",
       "}\n",
       "</style>\n",
       "<table id=\"T_8d75c\">\n",
       "  <thead>\n",
       "    <tr>\n",
       "      <th class=\"blank level0\" >&nbsp;</th>\n",
       "      <th id=\"T_8d75c_level0_col0\" class=\"col_heading level0 col0\" >family_status</th>\n",
       "      <th id=\"T_8d75c_level0_col1\" class=\"col_heading level0 col1\" >people_count</th>\n",
       "      <th id=\"T_8d75c_level0_col2\" class=\"col_heading level0 col2\" >debt_count</th>\n",
       "      <th id=\"T_8d75c_level0_col3\" class=\"col_heading level0 col3\" >people_percent</th>\n",
       "    </tr>\n",
       "  </thead>\n",
       "  <tbody>\n",
       "    <tr>\n",
       "      <th id=\"T_8d75c_level0_row0\" class=\"row_heading level0 row0\" >0</th>\n",
       "      <td id=\"T_8d75c_row0_col0\" class=\"data row0 col0\" >Не женат / не замужем</td>\n",
       "      <td id=\"T_8d75c_row0_col1\" class=\"data row0 col1\" >2796</td>\n",
       "      <td id=\"T_8d75c_row0_col2\" class=\"data row0 col2\" >273</td>\n",
       "      <td id=\"T_8d75c_row0_col3\" class=\"data row0 col3\" >13.097246</td>\n",
       "    </tr>\n",
       "    <tr>\n",
       "      <th id=\"T_8d75c_level0_row1\" class=\"row_heading level0 row1\" >1</th>\n",
       "      <td id=\"T_8d75c_row1_col0\" class=\"data row1 col0\" >в разводе</td>\n",
       "      <td id=\"T_8d75c_row1_col1\" class=\"data row1 col1\" >1189</td>\n",
       "      <td id=\"T_8d75c_row1_col2\" class=\"data row1 col2\" >84</td>\n",
       "      <td id=\"T_8d75c_row1_col3\" class=\"data row1 col3\" >5.569608</td>\n",
       "    </tr>\n",
       "    <tr>\n",
       "      <th id=\"T_8d75c_level0_row2\" class=\"row_heading level0 row2\" >2</th>\n",
       "      <td id=\"T_8d75c_row2_col0\" class=\"data row2 col0\" >вдовец / вдова</td>\n",
       "      <td id=\"T_8d75c_row2_col1\" class=\"data row2 col1\" >951</td>\n",
       "      <td id=\"T_8d75c_row2_col2\" class=\"data row2 col2\" >63</td>\n",
       "      <td id=\"T_8d75c_row2_col3\" class=\"data row2 col3\" >4.454750</td>\n",
       "    </tr>\n",
       "    <tr>\n",
       "      <th id=\"T_8d75c_level0_row3\" class=\"row_heading level0 row3\" >3</th>\n",
       "      <td id=\"T_8d75c_row3_col0\" class=\"data row3 col0\" >гражданский брак</td>\n",
       "      <td id=\"T_8d75c_row3_col1\" class=\"data row3 col1\" >4146</td>\n",
       "      <td id=\"T_8d75c_row3_col2\" class=\"data row3 col2\" >385</td>\n",
       "      <td id=\"T_8d75c_row3_col3\" class=\"data row3 col3\" >19.421023</td>\n",
       "    </tr>\n",
       "    <tr>\n",
       "      <th id=\"T_8d75c_level0_row4\" class=\"row_heading level0 row4\" >4</th>\n",
       "      <td id=\"T_8d75c_row4_col0\" class=\"data row4 col0\" >женат / замужем</td>\n",
       "      <td id=\"T_8d75c_row4_col1\" class=\"data row4 col1\" >12266</td>\n",
       "      <td id=\"T_8d75c_row4_col2\" class=\"data row4 col2\" >927</td>\n",
       "      <td id=\"T_8d75c_row4_col3\" class=\"data row4 col3\" >57.457373</td>\n",
       "    </tr>\n",
       "  </tbody>\n",
       "</table>\n"
      ],
      "text/plain": [
       "<pandas.io.formats.style.Styler at 0x7faea8bcbe50>"
      ]
     },
     "execution_count": 25,
     "metadata": {},
     "output_type": "execute_result"
    }
   ],
   "source": [
    "# создаем таблицу\n",
    "family_grouped = get_table_grouped(data, 'family_status')\n",
    "family_grouped['people_percent'] = get_people_percent(family_grouped['people_count'])\n",
    "\n",
    "# выводим ее на экран с закрашиванием цветом\n",
    "family_grouped.style.background_gradient(cmap='BuGn')"
   ]
  },
  {
   "cell_type": "markdown",
   "id": "72ec016d",
   "metadata": {},
   "source": [
    "В каждой категории довольно много клиентов, поэтому по данным можем сделать более точные выводы.\n",
    "\n",
    "Посчитаем процент клиентов, имеющих задолженности, в каждой группе. Отсортируем их в порядке убывания. Построим столбчатую диаграмму, чтобы наглядно визуализировать процент должников в каждой категории."
   ]
  },
  {
   "cell_type": "code",
   "execution_count": 26,
   "id": "5abab470",
   "metadata": {
    "scrolled": true
   },
   "outputs": [
    {
     "data": {
      "image/png": "[encoded data removed]",
      "text/plain": [
       "<Figure size 432x288 with 1 Axes>"
      ]
     },
     "metadata": {
      "needs_background": "light"
     },
     "output_type": "display_data"
    }
   ],
   "source": [
    "# добавим столбец с процентом должников в каждой группе\n",
    "family_grouped['debt_percent'] = get_debt_percent(family_grouped)\n",
    "\n",
    "# отсортируем таблицу в порядке убывания по проценту задолженностей в каждой категории\n",
    "family_grouped = family_grouped.sort_values(by='debt_percent', ascending=False)\n",
    "\n",
    "# строим график в горизонтальной ориентации\n",
    "ax = sns.barplot(x=family_grouped['debt_percent'], y=family_grouped['family_status'], orient='h')\n",
    "\n",
    "# добавляем подписи\n",
    "ax.set_title('Распределение долей должников с разным семейным положением')\n",
    "ax.set(xlabel='Процент клиентов с задолженностями', ylabel='Семейное положение');"
   ]
  },
  {
   "cell_type": "markdown",
   "id": "1cef7837",
   "metadata": {
    "deletable": false,
    "id": "1cef7837"
   },
   "source": [
    "**Вывод:** \n",
    "- Лучше всего платят кредиты вдовцы и вдовы. Среди них имели задолженности примерно 6.6% клиентов.\n",
    "- Чаще всего задолженности встречаются у неженатых/незамужних клиентов или находящихся в гражданском браке. Среди них задолженности были примерно у 9.8% и 9.3% клиентов соответственно. "
   ]
  },
  {
   "cell_type": "markdown",
   "id": "1e8b2fca",
   "metadata": {
    "id": "1e8b2fca"
   },
   "source": [
    "### Анализ зависимости возврата кредита от уровня дохода <a id=\"income\"></a>"
   ]
  },
  {
   "cell_type": "markdown",
   "id": "90af5c04",
   "metadata": {},
   "source": [
    "Cоздадим отдельную таблицу, в которой посчитаем:\n",
    "1. Количество клиентов в каждой категории дохода.\n",
    "2. Количество имеющих задолженности среди них.\n",
    "3. Процент клиентов в каждой категории, относительно всей выборки."
   ]
  },
  {
   "cell_type": "code",
   "execution_count": 27,
   "id": "61a6418f",
   "metadata": {
    "scrolled": true
   },
   "outputs": [
    {
     "data": {
      "text/html": [
       "<style type=\"text/css\">\n",
       "#T_60ec5_row0_col0, #T_60ec5_row2_col2, #T_60ec5_row2_col3, #T_60ec5_row2_col4 {\n",
       "  background-color: #00441b;\n",
       "  color: #f1f1f1;\n",
       "}\n",
       "#T_60ec5_row0_col2, #T_60ec5_row0_col3, #T_60ec5_row0_col4, #T_60ec5_row4_col0, #T_60ec5_row4_col2, #T_60ec5_row4_col3, #T_60ec5_row4_col4 {\n",
       "  background-color: #f7fcfd;\n",
       "  color: #000000;\n",
       "}\n",
       "#T_60ec5_row1_col0 {\n",
       "  background-color: #228a44;\n",
       "  color: #f1f1f1;\n",
       "}\n",
       "#T_60ec5_row1_col2, #T_60ec5_row1_col4 {\n",
       "  background-color: #f4fbfc;\n",
       "  color: #000000;\n",
       "}\n",
       "#T_60ec5_row1_col3 {\n",
       "  background-color: #f5fbfd;\n",
       "  color: #000000;\n",
       "}\n",
       "#T_60ec5_row2_col0 {\n",
       "  background-color: #65c2a3;\n",
       "  color: #000000;\n",
       "}\n",
       "#T_60ec5_row3_col0 {\n",
       "  background-color: #ccece6;\n",
       "  color: #000000;\n",
       "}\n",
       "#T_60ec5_row3_col2, #T_60ec5_row3_col4 {\n",
       "  background-color: #b2e2d7;\n",
       "  color: #000000;\n",
       "}\n",
       "#T_60ec5_row3_col3 {\n",
       "  background-color: #c8ebe4;\n",
       "  color: #000000;\n",
       "}\n",
       "</style>\n",
       "<table id=\"T_60ec5\">\n",
       "  <thead>\n",
       "    <tr>\n",
       "      <th class=\"blank level0\" >&nbsp;</th>\n",
       "      <th id=\"T_60ec5_level0_col0\" class=\"col_heading level0 col0\" >index</th>\n",
       "      <th id=\"T_60ec5_level0_col1\" class=\"col_heading level0 col1\" >total_income_category</th>\n",
       "      <th id=\"T_60ec5_level0_col2\" class=\"col_heading level0 col2\" >people_count</th>\n",
       "      <th id=\"T_60ec5_level0_col3\" class=\"col_heading level0 col3\" >debt_count</th>\n",
       "      <th id=\"T_60ec5_level0_col4\" class=\"col_heading level0 col4\" >people_percent</th>\n",
       "    </tr>\n",
       "  </thead>\n",
       "  <tbody>\n",
       "    <tr>\n",
       "      <th id=\"T_60ec5_level0_row0\" class=\"row_heading level0 row0\" >0</th>\n",
       "      <td id=\"T_60ec5_row0_col0\" class=\"data row0 col0\" >4</td>\n",
       "      <td id=\"T_60ec5_row0_col1\" class=\"data row0 col1\" >E</td>\n",
       "      <td id=\"T_60ec5_row0_col2\" class=\"data row0 col2\" >22</td>\n",
       "      <td id=\"T_60ec5_row0_col3\" class=\"data row0 col3\" >2</td>\n",
       "      <td id=\"T_60ec5_row0_col4\" class=\"data row0 col4\" >0.103054</td>\n",
       "    </tr>\n",
       "    <tr>\n",
       "      <th id=\"T_60ec5_level0_row1\" class=\"row_heading level0 row1\" >1</th>\n",
       "      <td id=\"T_60ec5_row1_col0\" class=\"data row1 col0\" >3</td>\n",
       "      <td id=\"T_60ec5_row1_col1\" class=\"data row1 col1\" >D</td>\n",
       "      <td id=\"T_60ec5_row1_col2\" class=\"data row1 col2\" >349</td>\n",
       "      <td id=\"T_60ec5_row1_col3\" class=\"data row1 col3\" >21</td>\n",
       "      <td id=\"T_60ec5_row1_col4\" class=\"data row1 col4\" >1.634814</td>\n",
       "    </tr>\n",
       "    <tr>\n",
       "      <th id=\"T_60ec5_level0_row2\" class=\"row_heading level0 row2\" >2</th>\n",
       "      <td id=\"T_60ec5_row2_col0\" class=\"data row2 col0\" >2</td>\n",
       "      <td id=\"T_60ec5_row2_col1\" class=\"data row2 col1\" >C</td>\n",
       "      <td id=\"T_60ec5_row2_col2\" class=\"data row2 col2\" >15938</td>\n",
       "      <td id=\"T_60ec5_row2_col3\" class=\"data row2 col3\" >1353</td>\n",
       "      <td id=\"T_60ec5_row2_col4\" class=\"data row2 col4\" >74.658048</td>\n",
       "    </tr>\n",
       "    <tr>\n",
       "      <th id=\"T_60ec5_level0_row3\" class=\"row_heading level0 row3\" >3</th>\n",
       "      <td id=\"T_60ec5_row3_col0\" class=\"data row3 col0\" >1</td>\n",
       "      <td id=\"T_60ec5_row3_col1\" class=\"data row3 col1\" >B</td>\n",
       "      <td id=\"T_60ec5_row3_col2\" class=\"data row3 col2\" >5014</td>\n",
       "      <td id=\"T_60ec5_row3_col3\" class=\"data row3 col3\" >354</td>\n",
       "      <td id=\"T_60ec5_row3_col4\" class=\"data row3 col4\" >23.486978</td>\n",
       "    </tr>\n",
       "    <tr>\n",
       "      <th id=\"T_60ec5_level0_row4\" class=\"row_heading level0 row4\" >4</th>\n",
       "      <td id=\"T_60ec5_row4_col0\" class=\"data row4 col0\" >0</td>\n",
       "      <td id=\"T_60ec5_row4_col1\" class=\"data row4 col1\" >A</td>\n",
       "      <td id=\"T_60ec5_row4_col2\" class=\"data row4 col2\" >25</td>\n",
       "      <td id=\"T_60ec5_row4_col3\" class=\"data row4 col3\" >2</td>\n",
       "      <td id=\"T_60ec5_row4_col4\" class=\"data row4 col4\" >0.117107</td>\n",
       "    </tr>\n",
       "  </tbody>\n",
       "</table>\n"
      ],
      "text/plain": [
       "<pandas.io.formats.style.Styler at 0x7faea8e70700>"
      ]
     },
     "execution_count": 27,
     "metadata": {},
     "output_type": "execute_result"
    }
   ],
   "source": [
    "# генерируем таблицу с количеством клиентов и должников с разными категориями дохода\n",
    "# сортируем по убыванию категорий, т.е. от малого дохода к большему\n",
    "income_grouped = get_table_grouped(data, 'total_income_category').sort_values(\n",
    "    by='total_income_category', ascending=False\n",
    ").reset_index()\n",
    "\n",
    "# добавим столбец с процентом клиентов в каждой группе, относительно всей выборки\n",
    "income_grouped['people_percent'] = get_people_percent(income_grouped['people_count'])\n",
    "\n",
    "# выведем таблицу на экран, добавим закрашивание\n",
    "income_grouped.style.background_gradient(cmap='BuGn')"
   ]
  },
  {
   "cell_type": "markdown",
   "id": "3f60116a",
   "metadata": {},
   "source": [
    "По таблице видно, что в некоторых категориях значительно мало клиентов. Например, в категории дохода E всего 22 клиента. \n",
    "\n",
    "Посчитаем процент клиентов, имеющих задолженности, в каждой группе. Построим столбчатую диаграмму, чтобы наглядно визуализировать процент должников в каждой категории."
   ]
  },
  {
   "cell_type": "code",
   "execution_count": 28,
   "id": "54328b36",
   "metadata": {},
   "outputs": [
    {
     "data": {
      "image/png": "[encoded data removed]",
      "text/plain": [
       "<Figure size 432x288 with 1 Axes>"
      ]
     },
     "metadata": {
      "needs_background": "light"
     },
     "output_type": "display_data"
    }
   ],
   "source": [
    "# добавляем столбец с процентом должников\n",
    "income_grouped['debt_percent'] = get_debt_percent(income_grouped)\n",
    "\n",
    "# строим график в горизонтальной ориентации\n",
    "ax = sns.barplot(x=income_grouped['debt_percent'], y=income_grouped['total_income_category'], orient='h')\n",
    "\n",
    "# добавляем подписи\n",
    "ax.set_title('Распределение долей должников с разным доходом')\n",
    "ax.set(xlabel='Процент клиентов с задолженностями', ylabel='Категория дохода');"
   ]
  },
  {
   "cell_type": "markdown",
   "id": "e8593def",
   "metadata": {
    "deletable": false,
    "id": "e8593def"
   },
   "source": [
    "**Вывод:** \n",
    "- Лучше всего платят кредиты клиенты в категории D. Среди них задолженности имели примерно 6% клиентов. При этом общий процент клиентов в этой категории очень невелик - всего 1.6% от общего числа кредитных клиентов банка.\n",
    "- Чаще всего имею задолженности клиенты в категориях Е и C. Среди них задолженности были примерно у 9.1% и 8.5% клиентов соответственно. \n",
    "    - При этом в категории Е процент клиентов очень мал - всего 0.1% от общего числа, поэтому выводы могут быть не точными. \n",
    "    - Также в категории С клиентов больше всего - 74.7% от общего числа, поэтому совсем не давать кредиты этой категории в будущем будет не правильно, банк может потерять большую часть клиентов.\n",
    "- Также можно отметить, что процент клиентов в категории А тоже очень мал - 0.1% от общего числа, поэтому полученные показатели в этой категории тоже могут мешать делать точные выводы."
   ]
  },
  {
   "cell_type": "markdown",
   "id": "99ecbd1f",
   "metadata": {
    "id": "99ecbd1f"
   },
   "source": [
    "### Анализ зависимости возврата кредита от целей кредита <a id=\"purpose\"></a>"
   ]
  },
  {
   "cell_type": "markdown",
   "id": "4ff86c07",
   "metadata": {},
   "source": [
    "Cоздадим отдельную таблицу, в которой посчитаем:\n",
    "1. Количество клиентов в каждой категории цели.\n",
    "2. Количество имеющих задолженности среди них.\n",
    "3. Процент клиентов в каждой категории, относительно всей выборки."
   ]
  },
  {
   "cell_type": "code",
   "execution_count": 29,
   "id": "2b687290",
   "metadata": {
    "id": "2b687290"
   },
   "outputs": [
    {
     "data": {
      "text/html": [
       "<style type=\"text/css\">\n",
       "#T_92c47_row0_col1, #T_92c47_row0_col3 {\n",
       "  background-color: #d0ede9;\n",
       "  color: #000000;\n",
       "}\n",
       "#T_92c47_row0_col2 {\n",
       "  background-color: #9ddacb;\n",
       "  color: #000000;\n",
       "}\n",
       "#T_92c47_row1_col1, #T_92c47_row1_col2, #T_92c47_row1_col3 {\n",
       "  background-color: #00441b;\n",
       "  color: #f1f1f1;\n",
       "}\n",
       "#T_92c47_row2_col1, #T_92c47_row2_col3 {\n",
       "  background-color: #d7f0ee;\n",
       "  color: #000000;\n",
       "}\n",
       "#T_92c47_row2_col2 {\n",
       "  background-color: #b4e2d8;\n",
       "  color: #000000;\n",
       "}\n",
       "#T_92c47_row3_col1, #T_92c47_row3_col2, #T_92c47_row3_col3 {\n",
       "  background-color: #f7fcfd;\n",
       "  color: #000000;\n",
       "}\n",
       "</style>\n",
       "<table id=\"T_92c47\">\n",
       "  <thead>\n",
       "    <tr>\n",
       "      <th class=\"blank level0\" >&nbsp;</th>\n",
       "      <th id=\"T_92c47_level0_col0\" class=\"col_heading level0 col0\" >purpose_category</th>\n",
       "      <th id=\"T_92c47_level0_col1\" class=\"col_heading level0 col1\" >people_count</th>\n",
       "      <th id=\"T_92c47_level0_col2\" class=\"col_heading level0 col2\" >debt_count</th>\n",
       "      <th id=\"T_92c47_level0_col3\" class=\"col_heading level0 col3\" >people_percent</th>\n",
       "    </tr>\n",
       "  </thead>\n",
       "  <tbody>\n",
       "    <tr>\n",
       "      <th id=\"T_92c47_level0_row0\" class=\"row_heading level0 row0\" >0</th>\n",
       "      <td id=\"T_92c47_row0_col0\" class=\"data row0 col0\" >операции с автомобилем</td>\n",
       "      <td id=\"T_92c47_row0_col1\" class=\"data row0 col1\" >4281</td>\n",
       "      <td id=\"T_92c47_row0_col2\" class=\"data row0 col2\" >400</td>\n",
       "      <td id=\"T_92c47_row0_col3\" class=\"data row0 col3\" >20.053401</td>\n",
       "    </tr>\n",
       "    <tr>\n",
       "      <th id=\"T_92c47_level0_row1\" class=\"row_heading level0 row1\" >1</th>\n",
       "      <td id=\"T_92c47_row1_col0\" class=\"data row1 col0\" >операции с недвижимостью</td>\n",
       "      <td id=\"T_92c47_row1_col1\" class=\"data row1 col1\" >10754</td>\n",
       "      <td id=\"T_92c47_row1_col2\" class=\"data row1 col2\" >780</td>\n",
       "      <td id=\"T_92c47_row1_col3\" class=\"data row1 col3\" >50.374742</td>\n",
       "    </tr>\n",
       "    <tr>\n",
       "      <th id=\"T_92c47_level0_row2\" class=\"row_heading level0 row2\" >2</th>\n",
       "      <td id=\"T_92c47_row2_col0\" class=\"data row2 col0\" >получение образования</td>\n",
       "      <td id=\"T_92c47_row2_col1\" class=\"data row2 col1\" >3989</td>\n",
       "      <td id=\"T_92c47_row2_col2\" class=\"data row2 col2\" >369</td>\n",
       "      <td id=\"T_92c47_row2_col3\" class=\"data row2 col3\" >18.685591</td>\n",
       "    </tr>\n",
       "    <tr>\n",
       "      <th id=\"T_92c47_level0_row3\" class=\"row_heading level0 row3\" >3</th>\n",
       "      <td id=\"T_92c47_row3_col0\" class=\"data row3 col0\" >проведение свадьбы</td>\n",
       "      <td id=\"T_92c47_row3_col1\" class=\"data row3 col1\" >2324</td>\n",
       "      <td id=\"T_92c47_row3_col2\" class=\"data row3 col2\" >183</td>\n",
       "      <td id=\"T_92c47_row3_col3\" class=\"data row3 col3\" >10.886266</td>\n",
       "    </tr>\n",
       "  </tbody>\n",
       "</table>\n"
      ],
      "text/plain": [
       "<pandas.io.formats.style.Styler at 0x7faea8f7c280>"
      ]
     },
     "execution_count": 29,
     "metadata": {},
     "output_type": "execute_result"
    }
   ],
   "source": [
    "# получаем таблицу\n",
    "purpose_grouped = get_table_grouped(data, 'purpose_category')\n",
    "purpose_grouped['people_percent'] = get_people_percent(purpose_grouped['people_count'])\n",
    "\n",
    "# выведем таблицу на экран\n",
    "purpose_grouped.style.background_gradient(cmap='BuGn')"
   ]
  },
  {
   "cell_type": "markdown",
   "id": "3f224653",
   "metadata": {},
   "source": [
    "Количество клиентов в каждой категории довольно большое, относительно общего числа, поэтому более точно можем не считать этот показатель.\n",
    "\n",
    "Посчитаем процент клиентов, имеющих задолженности, в каждой группе. Отсортируем таблицу в порядке его убывания. Построим столбчатую диаграмму, чтобы наглядно визуализировать процент должников в каждой категории."
   ]
  },
  {
   "cell_type": "code",
   "execution_count": 30,
   "id": "90c848cf",
   "metadata": {},
   "outputs": [
    {
     "data": {
      "image/png": "[encoded data removed]",
      "text/plain": [
       "<Figure size 432x288 with 1 Axes>"
      ]
     },
     "metadata": {
      "needs_background": "light"
     },
     "output_type": "display_data"
    }
   ],
   "source": [
    "# добавим столбец с процентом должников в каждой группе\n",
    "purpose_grouped['debt_percent'] = get_debt_percent(purpose_grouped)\n",
    "\n",
    "# отсортируем таблицу в порядке убывания по проценту задолженностей в каждой категории\n",
    "purpose_grouped = purpose_grouped.sort_values(by='debt_percent', ascending=False)\n",
    "\n",
    "# строим график в горизонтальной ориентации\n",
    "ax = sns.barplot(x=purpose_grouped['debt_percent'], y=purpose_grouped['purpose_category'], orient='h')\n",
    "\n",
    "# добавляем подписи\n",
    "ax.set_title('Распределение долей должников с разными целями кредита')\n",
    "ax.set(xlabel='Процент клиентов с задолженностями', ylabel='Категория цели кредита');"
   ]
  },
  {
   "cell_type": "markdown",
   "id": "b4bb2ce6",
   "metadata": {
    "deletable": false,
    "id": "b4bb2ce6"
   },
   "source": [
    "**Вывод:** \n",
    "- Лучше всего платят кредиты клиенты, которые оформляют их на операции с недвижимостью. Среди них задолженности имеют примерно 7.3% клиентов. \n",
    "    - Также можно отметить, что в этой категории проходит максимальное количество операций, примерно половина от общего числа.\n",
    "- Чаще всего задолженности встречаются у кредитов, которые клиенты оформляют на операции с автомобилем или получение образования. Среди них задолженности были примерно у 9.3% в каждой категории."
   ]
  },
  {
   "cell_type": "markdown",
   "id": "6db5255a",
   "metadata": {
    "id": "6db5255a"
   },
   "source": [
    "## Общий вывод <a id=\"total\"></a>"
   ]
  },
  {
   "cell_type": "markdown",
   "id": "afdea4ea",
   "metadata": {},
   "source": [
    "### Вывод о данных"
   ]
  },
  {
   "cell_type": "markdown",
   "id": "00b298ac",
   "metadata": {},
   "source": [
    "- Данных было достаточно большое количество - 21525 строк, поэтому в большинстве случаев это позволило сделать более точные выводы. \n",
    "- В некоторых местах присутствовали пропуски и аномальные значения. Так как строк с такими данными было довольно много, то пришлось их поправить. \n",
    "    - Было пропущено 2174 значения в полях с трудовым стажем и уровнем дохода. Возможно, причина пропуска данных имеет полностью случайный характер. Вероятность встретить пропуск не зависела от других значений. Скорее всего, причиной пропусков может быть человеческий фактор. Клиенты могли пропустить заполнение этих полей при оформлени кредита, тем более если их заполнение могло быть необзятальным.\n",
    "    - Удалить прощенные значения мы не могли, так как потеряли бы большую часть данных (примерно 10%), поэтому заменили их медианными значениями от зависимых категорий. Медиана показывает значение, которое находится ровно посередине отсортированной выборки. Это более реалистичный показатель, который не зависит от аномально отличающихся данных в выборке (например, слишком больших или слишком маленьких значений)."
   ]
  },
  {
   "cell_type": "markdown",
   "id": "3f4c817b",
   "metadata": {},
   "source": [
    "### Ответы на вопросы заказчика"
   ]
  },
  {
   "cell_type": "markdown",
   "id": "bad65432",
   "metadata": {
    "id": "bad65432"
   },
   "source": [
    "Ответы на поставленные вопросы были получены. Зависимости между категориями клиентов и задолженностям по кредитам есть, но в большинстве случаев разница между ними незначительная +- 2%. \n",
    "\n",
    "##### Есть ли зависимость между количеством детей и возвратом кредита в срок?\n",
    "- Да. Лучше всего платят кредиты клиенты без детей (должников в категории 7.5%). Больше всего задолженностей у клиентов с 1 и 2 детьми (процент должников в категории 9.2% и 9.5% соответственно).\n",
    "\n",
    "##### Есть ли зависимость между семейным положением и возвратом кредита в срок?\n",
    "- Да. Лучше всего платят вдовцы и вдовы (должников в категории 6.6%). Больше всего задолженностей у неженатых/незамужних клиентов или находящихся в гражданском браке (процент должников в категории 9.8% и 9.3% соответственно).\n",
    "\n",
    "##### Есть ли зависимость между уровнем дохода и возвратом кредита в срок?\n",
    "- Да. Лучше всего платят клиенты в категории D (должников в категории 6%). Больше всего задолженностей у клиентов с категориями доходов Е и С (процент должников в категории 9.1% и 8.5% соответственно. При этом общий процент клиентов в некоторых категориях очень мал (в D всего 1.6% клиентов, в А и Е всего 0.1% от общего числа), поэтому выводы могут быть не точными.\n",
    "\n",
    "##### Как разные цели кредита влияют на его возврат в срок?\n",
    "- Лучше всего клиенты выплачивают кредиты, оформленные на операции с недвижимостью (должников в категории 7.3%). Больше всего задолженностей по кредитам, оформленным на операции с автомобилем или получение образования (процент должников в категориях примерно 9.3%).\n",
    "\n",
    "##### Дополнительные рекомендации:\n",
    "- В дальнейшем будет полезно более точно разобраться в причинах пропущенных значений трудового стажа и уровня дохода у некоторых клиентов, чтобы подобные ошибки не проявлялись в будущем, и была возможность делать более точные анализы."
   ]
  }
 ],
 "metadata": {
  "celltoolbar": "Отсутствует",
  "colab": {
   "name": "dpp_template_part2.ipynb",
   "provenance": []
  },
  "kernelspec": {
   "display_name": "Python 3 (ipykernel)",
   "language": "python",
   "name": "python3"
  },
  "language_info": {
   "codemirror_mode": {
    "name": "ipython",
    "version": 3
   },
   "file_extension": ".py",
   "mimetype": "text/x-python",
   "name": "python",
   "nbconvert_exporter": "python",
   "pygments_lexer": "ipython3",
   "version": "3.9.12"
  },
  "toc": {
   "base_numbering": 1,
   "nav_menu": {},
   "number_sections": true,
   "sideBar": true,
   "skip_h1_title": true,
   "title_cell": "Table of Contents",
   "title_sidebar": "Contents",
   "toc_cell": false,
   "toc_position": {},
   "toc_section_display": true,
   "toc_window_display": false
  }
 },
 "nbformat": 4,
 "nbformat_minor": 5
}
